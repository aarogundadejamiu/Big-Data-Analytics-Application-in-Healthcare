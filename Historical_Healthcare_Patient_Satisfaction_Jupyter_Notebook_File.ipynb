{
 "cells": [
  {
   "cell_type": "markdown",
   "id": "50b7ec75",
   "metadata": {},
   "source": [
    "# Import Pandas and Read-in Datasets with Pandas"
   ]
  },
  {
   "cell_type": "code",
   "execution_count": 1,
   "id": "74ba6754",
   "metadata": {},
   "outputs": [
    {
     "name": "stdout",
     "output_type": "stream",
     "text": [
      "DataFrame have 1653683 Rows and 43 columns\n"
     ]
    }
   ],
   "source": [
    "import pandas as pd\n",
    "\n",
    "# Display all columns\n",
    "pd.set_option('display.max_columns', None)\n",
    "\n",
    "# Read-in the datasets\n",
    "df_1 = pd.read_csv('patient_satisfaction/cms_hospital_patient_satisfaction_2020.csv', low_memory=False)\n",
    "df_2 = pd.read_csv('patient_satisfaction/cms_hospital_patient_satisfaction_2019.csv', low_memory=False)\n",
    "df_3 = pd.read_csv('patient_satisfaction/cms_hospital_patient_satisfaction_2018.csv', low_memory=False)\n",
    "df_4 = pd.read_csv('patient_satisfaction/cms_hospital_patient_satisfaction_2017.csv', low_memory=False)\n",
    "df_5 = pd.read_csv('patient_satisfaction/cms_hospital_patient_satisfaction_2016.csv', low_memory=False)\n",
    "\n",
    "# Merge datasets into a single DataFrame\n",
    "df = pd.concat([df_1, df_2, df_3, df_4, df_5], ignore_index=True)\n",
    "\n",
    "print(f'DataFrame have {df.shape[0]} Rows and {df.shape[1]} columns')"
   ]
  },
  {
   "cell_type": "markdown",
   "id": "150a08fd",
   "metadata": {},
   "source": [
    "Print DataFrame"
   ]
  },
  {
   "cell_type": "code",
   "execution_count": 2,
   "id": "2943300a",
   "metadata": {
    "scrolled": false
   },
   "outputs": [
    {
     "data": {
      "text/html": [
       "<div>\n",
       "<style scoped>\n",
       "    .dataframe tbody tr th:only-of-type {\n",
       "        vertical-align: middle;\n",
       "    }\n",
       "\n",
       "    .dataframe tbody tr th {\n",
       "        vertical-align: top;\n",
       "    }\n",
       "\n",
       "    .dataframe thead th {\n",
       "        text-align: right;\n",
       "    }\n",
       "</style>\n",
       "<table border=\"1\" class=\"dataframe\">\n",
       "  <thead>\n",
       "    <tr style=\"text-align: right;\">\n",
       "      <th></th>\n",
       "      <th>Facility ID</th>\n",
       "      <th>Facility Name</th>\n",
       "      <th>Address</th>\n",
       "      <th>City</th>\n",
       "      <th>State</th>\n",
       "      <th>ZIP Code</th>\n",
       "      <th>County Name</th>\n",
       "      <th>Phone Number</th>\n",
       "      <th>HCAHPS Measure ID</th>\n",
       "      <th>HCAHPS Question</th>\n",
       "      <th>HCAHPS Answer Description</th>\n",
       "      <th>Patient Survey Star Rating</th>\n",
       "      <th>Patient Survey Star Rating Footnote</th>\n",
       "      <th>HCAHPS Answer Percent</th>\n",
       "      <th>HCAHPS Answer Percent Footnote</th>\n",
       "      <th>HCAHPS Linear Mean Value</th>\n",
       "      <th>Number of Completed Surveys</th>\n",
       "      <th>Number of Completed Surveys Footnote</th>\n",
       "      <th>Survey Response Rate Percent</th>\n",
       "      <th>Survey Response Rate Percent Footnote</th>\n",
       "      <th>Start Date</th>\n",
       "      <th>End Date</th>\n",
       "      <th>Year</th>\n",
       "      <th>Hospital Type</th>\n",
       "      <th>Hospital Ownership</th>\n",
       "      <th>Emergency Services</th>\n",
       "      <th>Meets criteria for promoting interoperability of EHRs</th>\n",
       "      <th>Hospital overall rating</th>\n",
       "      <th>Hospital overall rating footnote</th>\n",
       "      <th>Mortality national comparison</th>\n",
       "      <th>Mortality national comparison footnote</th>\n",
       "      <th>Safety of care national comparison</th>\n",
       "      <th>Safety of care national comparison footnote</th>\n",
       "      <th>Readmission national comparison</th>\n",
       "      <th>Readmission national comparison footnote</th>\n",
       "      <th>Patient experience national comparison</th>\n",
       "      <th>Patient experience national comparison footnote</th>\n",
       "      <th>Effectiveness of care national comparison</th>\n",
       "      <th>Effectiveness of care national comparison footnote</th>\n",
       "      <th>Timeliness of care national comparison</th>\n",
       "      <th>Timeliness of care national comparison footnote</th>\n",
       "      <th>Efficient use of medical imaging national comparison</th>\n",
       "      <th>Efficient use of medical imaging national comparison footnote</th>\n",
       "    </tr>\n",
       "  </thead>\n",
       "  <tbody>\n",
       "    <tr>\n",
       "      <th>0</th>\n",
       "      <td>010001</td>\n",
       "      <td>SOUTHEAST ALABAMA MEDICAL CENTER</td>\n",
       "      <td>1108 ROSS CLARK CIRCLE</td>\n",
       "      <td>DOTHAN</td>\n",
       "      <td>AL</td>\n",
       "      <td>36301</td>\n",
       "      <td>HOUSTON</td>\n",
       "      <td>(334) 793-8701</td>\n",
       "      <td>H_COMP_1_A_P</td>\n",
       "      <td>Patients who reported that their nurses \"Alway...</td>\n",
       "      <td>Nurses \"always\" communicated well</td>\n",
       "      <td>Not Applicable</td>\n",
       "      <td>NaN</td>\n",
       "      <td>77</td>\n",
       "      <td>NaN</td>\n",
       "      <td>Not Applicable</td>\n",
       "      <td>535</td>\n",
       "      <td>NaN</td>\n",
       "      <td>22</td>\n",
       "      <td>NaN</td>\n",
       "      <td>07/01/2018</td>\n",
       "      <td>06/30/2019</td>\n",
       "      <td>2020</td>\n",
       "      <td>Acute Care Hospitals</td>\n",
       "      <td>Government - Hospital District or Authority</td>\n",
       "      <td>Yes</td>\n",
       "      <td>Y</td>\n",
       "      <td>2</td>\n",
       "      <td>NaN</td>\n",
       "      <td>Below the national average</td>\n",
       "      <td>NaN</td>\n",
       "      <td>Same as the national average</td>\n",
       "      <td>NaN</td>\n",
       "      <td>Below the national average</td>\n",
       "      <td>NaN</td>\n",
       "      <td>Below the national average</td>\n",
       "      <td>NaN</td>\n",
       "      <td>Same as the national average</td>\n",
       "      <td>NaN</td>\n",
       "      <td>Same as the national average</td>\n",
       "      <td>NaN</td>\n",
       "      <td>Same as the national average</td>\n",
       "      <td>NaN</td>\n",
       "    </tr>\n",
       "    <tr>\n",
       "      <th>1</th>\n",
       "      <td>010001</td>\n",
       "      <td>SOUTHEAST ALABAMA MEDICAL CENTER</td>\n",
       "      <td>1108 ROSS CLARK CIRCLE</td>\n",
       "      <td>DOTHAN</td>\n",
       "      <td>AL</td>\n",
       "      <td>36301</td>\n",
       "      <td>HOUSTON</td>\n",
       "      <td>(334) 793-8701</td>\n",
       "      <td>H_COMP_1_SN_P</td>\n",
       "      <td>Patients who reported that their nurses \"Somet...</td>\n",
       "      <td>Nurses \"sometimes\" or \"never\" communicated well</td>\n",
       "      <td>Not Applicable</td>\n",
       "      <td>NaN</td>\n",
       "      <td>7</td>\n",
       "      <td>NaN</td>\n",
       "      <td>Not Applicable</td>\n",
       "      <td>535</td>\n",
       "      <td>NaN</td>\n",
       "      <td>22</td>\n",
       "      <td>NaN</td>\n",
       "      <td>07/01/2018</td>\n",
       "      <td>06/30/2019</td>\n",
       "      <td>2020</td>\n",
       "      <td>Acute Care Hospitals</td>\n",
       "      <td>Government - Hospital District or Authority</td>\n",
       "      <td>Yes</td>\n",
       "      <td>Y</td>\n",
       "      <td>2</td>\n",
       "      <td>NaN</td>\n",
       "      <td>Below the national average</td>\n",
       "      <td>NaN</td>\n",
       "      <td>Same as the national average</td>\n",
       "      <td>NaN</td>\n",
       "      <td>Below the national average</td>\n",
       "      <td>NaN</td>\n",
       "      <td>Below the national average</td>\n",
       "      <td>NaN</td>\n",
       "      <td>Same as the national average</td>\n",
       "      <td>NaN</td>\n",
       "      <td>Same as the national average</td>\n",
       "      <td>NaN</td>\n",
       "      <td>Same as the national average</td>\n",
       "      <td>NaN</td>\n",
       "    </tr>\n",
       "    <tr>\n",
       "      <th>2</th>\n",
       "      <td>010001</td>\n",
       "      <td>SOUTHEAST ALABAMA MEDICAL CENTER</td>\n",
       "      <td>1108 ROSS CLARK CIRCLE</td>\n",
       "      <td>DOTHAN</td>\n",
       "      <td>AL</td>\n",
       "      <td>36301</td>\n",
       "      <td>HOUSTON</td>\n",
       "      <td>(334) 793-8701</td>\n",
       "      <td>H_COMP_1_U_P</td>\n",
       "      <td>Patients who reported that their nurses \"Usual...</td>\n",
       "      <td>Nurses \"usually\" communicated well</td>\n",
       "      <td>Not Applicable</td>\n",
       "      <td>NaN</td>\n",
       "      <td>16</td>\n",
       "      <td>NaN</td>\n",
       "      <td>Not Applicable</td>\n",
       "      <td>535</td>\n",
       "      <td>NaN</td>\n",
       "      <td>22</td>\n",
       "      <td>NaN</td>\n",
       "      <td>07/01/2018</td>\n",
       "      <td>06/30/2019</td>\n",
       "      <td>2020</td>\n",
       "      <td>Acute Care Hospitals</td>\n",
       "      <td>Government - Hospital District or Authority</td>\n",
       "      <td>Yes</td>\n",
       "      <td>Y</td>\n",
       "      <td>2</td>\n",
       "      <td>NaN</td>\n",
       "      <td>Below the national average</td>\n",
       "      <td>NaN</td>\n",
       "      <td>Same as the national average</td>\n",
       "      <td>NaN</td>\n",
       "      <td>Below the national average</td>\n",
       "      <td>NaN</td>\n",
       "      <td>Below the national average</td>\n",
       "      <td>NaN</td>\n",
       "      <td>Same as the national average</td>\n",
       "      <td>NaN</td>\n",
       "      <td>Same as the national average</td>\n",
       "      <td>NaN</td>\n",
       "      <td>Same as the national average</td>\n",
       "      <td>NaN</td>\n",
       "    </tr>\n",
       "    <tr>\n",
       "      <th>3</th>\n",
       "      <td>010001</td>\n",
       "      <td>SOUTHEAST ALABAMA MEDICAL CENTER</td>\n",
       "      <td>1108 ROSS CLARK CIRCLE</td>\n",
       "      <td>DOTHAN</td>\n",
       "      <td>AL</td>\n",
       "      <td>36301</td>\n",
       "      <td>HOUSTON</td>\n",
       "      <td>(334) 793-8701</td>\n",
       "      <td>H_COMP_1_LINEAR_SCORE</td>\n",
       "      <td>Nurse communication - linear mean score</td>\n",
       "      <td>Nurse communication - linear mean score</td>\n",
       "      <td>Not Applicable</td>\n",
       "      <td>NaN</td>\n",
       "      <td>Not Applicable</td>\n",
       "      <td>NaN</td>\n",
       "      <td>90</td>\n",
       "      <td>535</td>\n",
       "      <td>NaN</td>\n",
       "      <td>22</td>\n",
       "      <td>NaN</td>\n",
       "      <td>07/01/2018</td>\n",
       "      <td>06/30/2019</td>\n",
       "      <td>2020</td>\n",
       "      <td>Acute Care Hospitals</td>\n",
       "      <td>Government - Hospital District or Authority</td>\n",
       "      <td>Yes</td>\n",
       "      <td>Y</td>\n",
       "      <td>2</td>\n",
       "      <td>NaN</td>\n",
       "      <td>Below the national average</td>\n",
       "      <td>NaN</td>\n",
       "      <td>Same as the national average</td>\n",
       "      <td>NaN</td>\n",
       "      <td>Below the national average</td>\n",
       "      <td>NaN</td>\n",
       "      <td>Below the national average</td>\n",
       "      <td>NaN</td>\n",
       "      <td>Same as the national average</td>\n",
       "      <td>NaN</td>\n",
       "      <td>Same as the national average</td>\n",
       "      <td>NaN</td>\n",
       "      <td>Same as the national average</td>\n",
       "      <td>NaN</td>\n",
       "    </tr>\n",
       "    <tr>\n",
       "      <th>4</th>\n",
       "      <td>010001</td>\n",
       "      <td>SOUTHEAST ALABAMA MEDICAL CENTER</td>\n",
       "      <td>1108 ROSS CLARK CIRCLE</td>\n",
       "      <td>DOTHAN</td>\n",
       "      <td>AL</td>\n",
       "      <td>36301</td>\n",
       "      <td>HOUSTON</td>\n",
       "      <td>(334) 793-8701</td>\n",
       "      <td>H_COMP_1_STAR_RATING</td>\n",
       "      <td>Nurse communication - star rating</td>\n",
       "      <td>Nurse communication - star rating</td>\n",
       "      <td>3</td>\n",
       "      <td>NaN</td>\n",
       "      <td>Not Applicable</td>\n",
       "      <td>NaN</td>\n",
       "      <td>Not Applicable</td>\n",
       "      <td>535</td>\n",
       "      <td>NaN</td>\n",
       "      <td>22</td>\n",
       "      <td>NaN</td>\n",
       "      <td>07/01/2018</td>\n",
       "      <td>06/30/2019</td>\n",
       "      <td>2020</td>\n",
       "      <td>Acute Care Hospitals</td>\n",
       "      <td>Government - Hospital District or Authority</td>\n",
       "      <td>Yes</td>\n",
       "      <td>Y</td>\n",
       "      <td>2</td>\n",
       "      <td>NaN</td>\n",
       "      <td>Below the national average</td>\n",
       "      <td>NaN</td>\n",
       "      <td>Same as the national average</td>\n",
       "      <td>NaN</td>\n",
       "      <td>Below the national average</td>\n",
       "      <td>NaN</td>\n",
       "      <td>Below the national average</td>\n",
       "      <td>NaN</td>\n",
       "      <td>Same as the national average</td>\n",
       "      <td>NaN</td>\n",
       "      <td>Same as the national average</td>\n",
       "      <td>NaN</td>\n",
       "      <td>Same as the national average</td>\n",
       "      <td>NaN</td>\n",
       "    </tr>\n",
       "  </tbody>\n",
       "</table>\n",
       "</div>"
      ],
      "text/plain": [
       "  Facility ID                     Facility Name                 Address  \\\n",
       "0      010001  SOUTHEAST ALABAMA MEDICAL CENTER  1108 ROSS CLARK CIRCLE   \n",
       "1      010001  SOUTHEAST ALABAMA MEDICAL CENTER  1108 ROSS CLARK CIRCLE   \n",
       "2      010001  SOUTHEAST ALABAMA MEDICAL CENTER  1108 ROSS CLARK CIRCLE   \n",
       "3      010001  SOUTHEAST ALABAMA MEDICAL CENTER  1108 ROSS CLARK CIRCLE   \n",
       "4      010001  SOUTHEAST ALABAMA MEDICAL CENTER  1108 ROSS CLARK CIRCLE   \n",
       "\n",
       "     City State  ZIP Code County Name    Phone Number      HCAHPS Measure ID  \\\n",
       "0  DOTHAN    AL     36301     HOUSTON  (334) 793-8701           H_COMP_1_A_P   \n",
       "1  DOTHAN    AL     36301     HOUSTON  (334) 793-8701          H_COMP_1_SN_P   \n",
       "2  DOTHAN    AL     36301     HOUSTON  (334) 793-8701           H_COMP_1_U_P   \n",
       "3  DOTHAN    AL     36301     HOUSTON  (334) 793-8701  H_COMP_1_LINEAR_SCORE   \n",
       "4  DOTHAN    AL     36301     HOUSTON  (334) 793-8701   H_COMP_1_STAR_RATING   \n",
       "\n",
       "                                     HCAHPS Question  \\\n",
       "0  Patients who reported that their nurses \"Alway...   \n",
       "1  Patients who reported that their nurses \"Somet...   \n",
       "2  Patients who reported that their nurses \"Usual...   \n",
       "3            Nurse communication - linear mean score   \n",
       "4                  Nurse communication - star rating   \n",
       "\n",
       "                         HCAHPS Answer Description Patient Survey Star Rating  \\\n",
       "0                Nurses \"always\" communicated well             Not Applicable   \n",
       "1  Nurses \"sometimes\" or \"never\" communicated well             Not Applicable   \n",
       "2               Nurses \"usually\" communicated well             Not Applicable   \n",
       "3          Nurse communication - linear mean score             Not Applicable   \n",
       "4                Nurse communication - star rating                          3   \n",
       "\n",
       "  Patient Survey Star Rating Footnote HCAHPS Answer Percent  \\\n",
       "0                                 NaN                    77   \n",
       "1                                 NaN                     7   \n",
       "2                                 NaN                    16   \n",
       "3                                 NaN        Not Applicable   \n",
       "4                                 NaN        Not Applicable   \n",
       "\n",
       "  HCAHPS Answer Percent Footnote HCAHPS Linear Mean Value  \\\n",
       "0                            NaN           Not Applicable   \n",
       "1                            NaN           Not Applicable   \n",
       "2                            NaN           Not Applicable   \n",
       "3                            NaN                       90   \n",
       "4                            NaN           Not Applicable   \n",
       "\n",
       "  Number of Completed Surveys Number of Completed Surveys Footnote  \\\n",
       "0                         535                                  NaN   \n",
       "1                         535                                  NaN   \n",
       "2                         535                                  NaN   \n",
       "3                         535                                  NaN   \n",
       "4                         535                                  NaN   \n",
       "\n",
       "  Survey Response Rate Percent Survey Response Rate Percent Footnote  \\\n",
       "0                           22                                   NaN   \n",
       "1                           22                                   NaN   \n",
       "2                           22                                   NaN   \n",
       "3                           22                                   NaN   \n",
       "4                           22                                   NaN   \n",
       "\n",
       "   Start Date    End Date  Year         Hospital Type  \\\n",
       "0  07/01/2018  06/30/2019  2020  Acute Care Hospitals   \n",
       "1  07/01/2018  06/30/2019  2020  Acute Care Hospitals   \n",
       "2  07/01/2018  06/30/2019  2020  Acute Care Hospitals   \n",
       "3  07/01/2018  06/30/2019  2020  Acute Care Hospitals   \n",
       "4  07/01/2018  06/30/2019  2020  Acute Care Hospitals   \n",
       "\n",
       "                            Hospital Ownership Emergency Services  \\\n",
       "0  Government - Hospital District or Authority                Yes   \n",
       "1  Government - Hospital District or Authority                Yes   \n",
       "2  Government - Hospital District or Authority                Yes   \n",
       "3  Government - Hospital District or Authority                Yes   \n",
       "4  Government - Hospital District or Authority                Yes   \n",
       "\n",
       "  Meets criteria for promoting interoperability of EHRs  \\\n",
       "0                                                  Y      \n",
       "1                                                  Y      \n",
       "2                                                  Y      \n",
       "3                                                  Y      \n",
       "4                                                  Y      \n",
       "\n",
       "  Hospital overall rating Hospital overall rating footnote  \\\n",
       "0                       2                              NaN   \n",
       "1                       2                              NaN   \n",
       "2                       2                              NaN   \n",
       "3                       2                              NaN   \n",
       "4                       2                              NaN   \n",
       "\n",
       "  Mortality national comparison Mortality national comparison footnote  \\\n",
       "0    Below the national average                                    NaN   \n",
       "1    Below the national average                                    NaN   \n",
       "2    Below the national average                                    NaN   \n",
       "3    Below the national average                                    NaN   \n",
       "4    Below the national average                                    NaN   \n",
       "\n",
       "  Safety of care national comparison  \\\n",
       "0       Same as the national average   \n",
       "1       Same as the national average   \n",
       "2       Same as the national average   \n",
       "3       Same as the national average   \n",
       "4       Same as the national average   \n",
       "\n",
       "  Safety of care national comparison footnote Readmission national comparison  \\\n",
       "0                                         NaN      Below the national average   \n",
       "1                                         NaN      Below the national average   \n",
       "2                                         NaN      Below the national average   \n",
       "3                                         NaN      Below the national average   \n",
       "4                                         NaN      Below the national average   \n",
       "\n",
       "  Readmission national comparison footnote  \\\n",
       "0                                      NaN   \n",
       "1                                      NaN   \n",
       "2                                      NaN   \n",
       "3                                      NaN   \n",
       "4                                      NaN   \n",
       "\n",
       "  Patient experience national comparison  \\\n",
       "0             Below the national average   \n",
       "1             Below the national average   \n",
       "2             Below the national average   \n",
       "3             Below the national average   \n",
       "4             Below the national average   \n",
       "\n",
       "  Patient experience national comparison footnote  \\\n",
       "0                                             NaN   \n",
       "1                                             NaN   \n",
       "2                                             NaN   \n",
       "3                                             NaN   \n",
       "4                                             NaN   \n",
       "\n",
       "  Effectiveness of care national comparison  \\\n",
       "0              Same as the national average   \n",
       "1              Same as the national average   \n",
       "2              Same as the national average   \n",
       "3              Same as the national average   \n",
       "4              Same as the national average   \n",
       "\n",
       "  Effectiveness of care national comparison footnote  \\\n",
       "0                                                NaN   \n",
       "1                                                NaN   \n",
       "2                                                NaN   \n",
       "3                                                NaN   \n",
       "4                                                NaN   \n",
       "\n",
       "  Timeliness of care national comparison  \\\n",
       "0           Same as the national average   \n",
       "1           Same as the national average   \n",
       "2           Same as the national average   \n",
       "3           Same as the national average   \n",
       "4           Same as the national average   \n",
       "\n",
       "  Timeliness of care national comparison footnote  \\\n",
       "0                                             NaN   \n",
       "1                                             NaN   \n",
       "2                                             NaN   \n",
       "3                                             NaN   \n",
       "4                                             NaN   \n",
       "\n",
       "  Efficient use of medical imaging national comparison  \\\n",
       "0                       Same as the national average     \n",
       "1                       Same as the national average     \n",
       "2                       Same as the national average     \n",
       "3                       Same as the national average     \n",
       "4                       Same as the national average     \n",
       "\n",
       "  Efficient use of medical imaging national comparison footnote  \n",
       "0                                                NaN             \n",
       "1                                                NaN             \n",
       "2                                                NaN             \n",
       "3                                                NaN             \n",
       "4                                                NaN             "
      ]
     },
     "execution_count": 2,
     "metadata": {},
     "output_type": "execute_result"
    }
   ],
   "source": [
    "import warnings #ignore warnings\n",
    "warnings.filterwarnings('ignore')\n",
    "\n",
    "df.head(5)"
   ]
  },
  {
   "cell_type": "markdown",
   "id": "9de015d7",
   "metadata": {},
   "source": [
    "#### Count number of NULL values in DataFrame"
   ]
  },
  {
   "cell_type": "code",
   "execution_count": 3,
   "id": "3f869841",
   "metadata": {
    "scrolled": false
   },
   "outputs": [
    {
     "data": {
      "text/plain": [
       "Facility ID                                                            0\n",
       "Facility Name                                                          0\n",
       "Address                                                                0\n",
       "City                                                                   0\n",
       "State                                                                  0\n",
       "ZIP Code                                                               0\n",
       "County Name                                                         2400\n",
       "Phone Number                                                           0\n",
       "HCAHPS Measure ID                                                      0\n",
       "HCAHPS Question                                                        0\n",
       "HCAHPS Answer Description                                              0\n",
       "Patient Survey Star Rating                                             0\n",
       "Patient Survey Star Rating Footnote                              1576857\n",
       "HCAHPS Answer Percent                                                  0\n",
       "HCAHPS Answer Percent Footnote                                   1306957\n",
       "HCAHPS Linear Mean Value                                               0\n",
       "Number of Completed Surveys                                            0\n",
       "Number of Completed Surveys Footnote                             1147394\n",
       "Survey Response Rate Percent                                           0\n",
       "Survey Response Rate Percent Footnote                            1147394\n",
       "Start Date                                                             0\n",
       "End Date                                                               0\n",
       "Year                                                                   0\n",
       "Hospital Type                                                          0\n",
       "Hospital Ownership                                                     0\n",
       "Emergency Services                                                     0\n",
       "Meets criteria for promoting interoperability of EHRs             213032\n",
       "Hospital overall rating                                                0\n",
       "Hospital overall rating footnote                                 1211841\n",
       "Mortality national comparison                                          0\n",
       "Mortality national comparison footnote                           1177732\n",
       "Safety of care national comparison                                     0\n",
       "Safety of care national comparison footnote                       909346\n",
       "Readmission national comparison                                        0\n",
       "Readmission national comparison footnote                         1317091\n",
       "Patient experience national comparison                                 0\n",
       "Patient experience national comparison footnote                  1183381\n",
       "Effectiveness of care national comparison                              0\n",
       "Effectiveness of care national comparison footnote               1243604\n",
       "Timeliness of care national comparison                                 0\n",
       "Timeliness of care national comparison footnote                  1279960\n",
       "Efficient use of medical imaging national comparison                   0\n",
       "Efficient use of medical imaging national comparison footnote    1019564\n",
       "dtype: int64"
      ]
     },
     "execution_count": 3,
     "metadata": {},
     "output_type": "execute_result"
    }
   ],
   "source": [
    "df.isnull().sum()"
   ]
  },
  {
   "cell_type": "markdown",
   "id": "29b9ea26",
   "metadata": {},
   "source": [
    "# Data Cleaning, Validation, and Exploration"
   ]
  },
  {
   "cell_type": "markdown",
   "id": "dd24fbf3",
   "metadata": {},
   "source": [
    "### Drop all Footnote columns"
   ]
  },
  {
   "cell_type": "code",
   "execution_count": 4,
   "id": "e5bd6dee",
   "metadata": {
    "scrolled": false
   },
   "outputs": [
    {
     "name": "stdout",
     "output_type": "stream",
     "text": [
      "<class 'pandas.core.frame.DataFrame'>\n",
      "RangeIndex: 1653683 entries, 0 to 1653682\n",
      "Data columns (total 31 columns):\n",
      " #   Column                                                 Non-Null Count    Dtype \n",
      "---  ------                                                 --------------    ----- \n",
      " 0   Facility ID                                            1653683 non-null  object\n",
      " 1   Facility Name                                          1653683 non-null  object\n",
      " 2   Address                                                1653683 non-null  object\n",
      " 3   City                                                   1653683 non-null  object\n",
      " 4   State                                                  1653683 non-null  object\n",
      " 5   ZIP Code                                               1653683 non-null  int64 \n",
      " 6   County Name                                            1651283 non-null  object\n",
      " 7   Phone Number                                           1653683 non-null  object\n",
      " 8   HCAHPS Measure ID                                      1653683 non-null  object\n",
      " 9   HCAHPS Question                                        1653683 non-null  object\n",
      " 10  HCAHPS Answer Description                              1653683 non-null  object\n",
      " 11  Patient Survey Star Rating                             1653683 non-null  object\n",
      " 12  HCAHPS Answer Percent                                  1653683 non-null  object\n",
      " 13  HCAHPS Linear Mean Value                               1653683 non-null  object\n",
      " 14  Number of Completed Surveys                            1653683 non-null  object\n",
      " 15  Survey Response Rate Percent                           1653683 non-null  object\n",
      " 16  Start Date                                             1653683 non-null  object\n",
      " 17  End Date                                               1653683 non-null  object\n",
      " 18  Year                                                   1653683 non-null  int64 \n",
      " 19  Hospital Type                                          1653683 non-null  object\n",
      " 20  Hospital Ownership                                     1653683 non-null  object\n",
      " 21  Emergency Services                                     1653683 non-null  object\n",
      " 22  Meets criteria for promoting interoperability of EHRs  1440651 non-null  object\n",
      " 23  Hospital overall rating                                1653683 non-null  object\n",
      " 24  Mortality national comparison                          1653683 non-null  object\n",
      " 25  Safety of care national comparison                     1653683 non-null  object\n",
      " 26  Readmission national comparison                        1653683 non-null  object\n",
      " 27  Patient experience national comparison                 1653683 non-null  object\n",
      " 28  Effectiveness of care national comparison              1653683 non-null  object\n",
      " 29  Timeliness of care national comparison                 1653683 non-null  object\n",
      " 30  Efficient use of medical imaging national comparison   1653683 non-null  object\n",
      "dtypes: int64(2), object(29)\n",
      "memory usage: 391.1+ MB\n"
     ]
    }
   ],
   "source": [
    "# Select all footnote columns\n",
    "footnote_columns = [col for col in df.columns if 'footnote' in col or 'Footnote' in col]\n",
    "\n",
    "# Drop selected columns\n",
    "df.drop(columns=footnote_columns, inplace=True)\n",
    "\n",
    "\n",
    "df.info()"
   ]
  },
  {
   "cell_type": "markdown",
   "id": "21aa0e21",
   "metadata": {},
   "source": [
    "## 1. Facility Name"
   ]
  },
  {
   "cell_type": "code",
   "execution_count": 5,
   "id": "26560128",
   "metadata": {},
   "outputs": [
    {
     "data": {
      "text/plain": [
       "MEMORIAL HOSPITAL                                5004\n",
       "COMMUNITY MEMORIAL HOSPITAL                      2434\n",
       "GOOD SAMARITAN HOSPITAL                          2236\n",
       "ST JOSEPH HOSPITAL                               2224\n",
       "SHRINERS HOSPITALS FOR CHILDREN                  1983\n",
       "                                                 ... \n",
       "UNIVERSITY OF MD PRINCE GEORGE'S HOSPITAL CTR      50\n",
       "FLORIDA HOSPITAL OCALA                             50\n",
       "HEART OF LANCASTER MEDICAL CENTER                  50\n",
       "ASCENSION CRITTENTON HOSPITAL                      50\n",
       "SCL HEALTH COMMUNITY HOSPITAL- NORTHGLENN          50\n",
       "Name: Facility Name, Length: 5769, dtype: int64"
      ]
     },
     "execution_count": 5,
     "metadata": {},
     "output_type": "execute_result"
    }
   ],
   "source": [
    "df['Facility Name'].value_counts()"
   ]
  },
  {
   "cell_type": "markdown",
   "id": "b3258a9a",
   "metadata": {},
   "source": [
    "## 2. City"
   ]
  },
  {
   "cell_type": "code",
   "execution_count": 6,
   "id": "b585d9f1",
   "metadata": {},
   "outputs": [
    {
     "data": {
      "text/plain": [
       "CHICAGO            10034\n",
       "HOUSTON             9249\n",
       "PHILADELPHIA        6760\n",
       "LOS ANGELES         6734\n",
       "DALLAS              6245\n",
       "                   ...  \n",
       "ELLIJAY               55\n",
       "PRESCOTT VALLEY       55\n",
       "FORT OGLETHORP        55\n",
       "DILLEY                55\n",
       "NORTHGLENN            50\n",
       "Name: City, Length: 3007, dtype: int64"
      ]
     },
     "execution_count": 6,
     "metadata": {},
     "output_type": "execute_result"
    }
   ],
   "source": [
    "df['City'].value_counts()"
   ]
  },
  {
   "cell_type": "markdown",
   "id": "69abcaf1",
   "metadata": {},
   "source": [
    "## 3. State"
   ]
  },
  {
   "cell_type": "code",
   "execution_count": 7,
   "id": "1337f1fc",
   "metadata": {
    "scrolled": true
   },
   "outputs": [
    {
     "data": {
      "text/plain": [
       "array(['AL', 'AK', 'AZ', 'AR', 'CA', 'CO', 'CT', 'DE', 'DC', 'FL', 'GA',\n",
       "       'HI', 'ID', 'IL', 'IN', 'IA', 'KS', 'KY', 'LA', 'ME', 'MD', 'MA',\n",
       "       'MI', 'MN', 'MS', 'MO', 'MT', 'NE', 'NV', 'NH', 'NJ', 'NM', 'NY',\n",
       "       'NC', 'ND', 'OH', 'OK', 'OR', 'PA', 'PR', 'RI', 'SC', 'SD', 'TN',\n",
       "       'TX', 'UT', 'VT', 'VI', 'VA', 'WA', 'WV', 'WI', 'WY', 'AS', 'GU',\n",
       "       'MP'], dtype=object)"
      ]
     },
     "execution_count": 7,
     "metadata": {},
     "output_type": "execute_result"
    }
   ],
   "source": [
    "df['State'].unique()"
   ]
  },
  {
   "cell_type": "markdown",
   "id": "1e3b843e",
   "metadata": {},
   "source": [
    "### Convert State abbreviation to full states name"
   ]
  },
  {
   "cell_type": "code",
   "execution_count": 8,
   "id": "2df0ccae",
   "metadata": {},
   "outputs": [
    {
     "name": "stdout",
     "output_type": "stream",
     "text": [
      "        State Full State Name\n",
      "0          AL         Alabama\n",
      "1          AL         Alabama\n",
      "2          AL         Alabama\n",
      "3          AL         Alabama\n",
      "4          AL         Alabama\n",
      "...       ...             ...\n",
      "1653678    TX           Texas\n",
      "1653679    TX           Texas\n",
      "1653680    TX           Texas\n",
      "1653681    TX           Texas\n",
      "1653682    TX           Texas\n",
      "\n",
      "[1653683 rows x 2 columns]\n"
     ]
    }
   ],
   "source": [
    "import us\n",
    "\n",
    "\n",
    "# Define the conversion function\n",
    "def convert_abbr_to_full(state_abbr):\n",
    "    if state_abbr:\n",
    "        full_state = us.states.lookup(state_abbr)\n",
    "        return full_state.name if full_state else \"Unknown\"\n",
    "    else:\n",
    "        return \"Unknown\"\n",
    "\n",
    "# Apply the full name conversation to the State column and store in a new column\n",
    "df['Full State Name'] = df['State'].apply(convert_abbr_to_full)\n",
    "\n",
    "# Get the index of the 'State' column\n",
    "state_column = 'State'\n",
    "full_state_column = df.pop('Full State Name')\n",
    "index_after = df.columns.get_loc(state_column) + 1\n",
    "df.insert(index_after, 'Full State Name', full_state_column)  \n",
    "\n",
    "# Print the DataFrame with the full state names\n",
    "print(df[['State', 'Full State Name']])"
   ]
  },
  {
   "cell_type": "markdown",
   "id": "75515f7f",
   "metadata": {},
   "source": [
    "## 4. HCAHPS Questions "
   ]
  },
  {
   "cell_type": "code",
   "execution_count": 9,
   "id": "ee4813ae",
   "metadata": {},
   "outputs": [
    {
     "name": "stdout",
     "output_type": "stream",
     "text": [
      "Patients who reported that their nurses \"Always\" communicated well                                                     23928\n",
      "Patients who \"Strongly Agree\" they understood their care when they left the hospital                                   23928\n",
      "Cleanliness - linear mean score                                                                                        23928\n",
      "Patients who reported that their room and bathroom were \"Usually\" clean                                                23928\n",
      "Patients who reported that their room and bathroom were \"Sometimes\" or \"Never\" clean                                   23928\n",
      "                                                                                                                       ...  \n",
      "Patients who \"Strongly Agree\" that the staff took my preferences into account when determining my health care needs     9516\n",
      "Patients who \"Agree\" that they understood their responsiblities in managing their health                                9516\n",
      "Patients who reported that they \"Always\" received bathroom help as soon as they wanted                                  9516\n",
      "Patients who \"Strongly Agree\" that they understood their responsiblities in managing their health                       9516\n",
      "Patients who \"Disagree\" or \"Strongly Disagree\" that they understood their responsiblities in managing their health      9516\n",
      "Name: HCAHPS Question, Length: 100, dtype: int64\n"
     ]
    }
   ],
   "source": [
    "print(df['HCAHPS Question'].value_counts())"
   ]
  },
  {
   "cell_type": "markdown",
   "id": "569aff09",
   "metadata": {},
   "source": [
    "## 5. HCAHPS Answer Description"
   ]
  },
  {
   "cell_type": "code",
   "execution_count": 10,
   "id": "2ac75e8b",
   "metadata": {
    "scrolled": true
   },
   "outputs": [
    {
     "name": "stdout",
     "output_type": "stream",
     "text": [
      "Nurses \"always\" communicated well                                                                                   23928\n",
      "\"Always\" quiet at night                                                                                             23928\n",
      "Staff \"usually\" explained                                                                                           23928\n",
      "Communication about medicines - linear mean score                                                                   23928\n",
      "Communication about medicines - star rating                                                                         23928\n",
      "                                                                                                                    ...  \n",
      "Patients who \"Agree\" they understood their responsiblities when they left the hospital                               9516\n",
      "Patients \"usually\" received call button help as soon as they wanted                                                  9516\n",
      "Patients who \"Strongly Agree\" they understood their responsiblities when they left the hospital                      9516\n",
      "Patients who \"Agree\" they understood their medications when they left the hospital                                   9516\n",
      "Patients who \"Disagree\" or \"Strongly Disagree\" they understood their responsiblities when they left the hospital     9516\n",
      "Name: HCAHPS Answer Description, Length: 101, dtype: int64\n"
     ]
    }
   ],
   "source": [
    "print(df['HCAHPS Answer Description'].value_counts())"
   ]
  },
  {
   "cell_type": "markdown",
   "id": "1b1628d1",
   "metadata": {},
   "source": [
    "### Remove quotations from HCAHPS question and answers values"
   ]
  },
  {
   "cell_type": "code",
   "execution_count": 11,
   "id": "6bbf933e",
   "metadata": {},
   "outputs": [],
   "source": [
    "# Replace qoutations with nothing\n",
    "df['HCAHPS Answer Description'] = df['HCAHPS Answer Description'].str.replace('\"', '')\n",
    "\n",
    "df['HCAHPS Question'] = df['HCAHPS Question'].str.replace('\"', '')"
   ]
  },
  {
   "cell_type": "code",
   "execution_count": 12,
   "id": "e837454c",
   "metadata": {
    "scrolled": false
   },
   "outputs": [
    {
     "data": {
      "text/plain": [
       "HCAHPS Question                                                                                                HCAHPS Answer Description                                          \n",
       "Care transition - linear mean score                                                                            Care transition - linear mean score                                    23928\n",
       "Patients who reported that their nurses Always communicated well                                               Nurses always communicated well                                        23928\n",
       "Patients who reported YES, they would probably recommend the hospital                                          YES, patients would probably recommend the hospital                    23928\n",
       "Patients who reported that NO, they were not given information about what to do during their recovery at home  No, staff did not give patients this information                       23928\n",
       "Patients who reported that YES, they were given information about what to do during their recovery at home     Yes, staff did give patients this information                          23928\n",
       "                                                                                                                                                                                      ...  \n",
       "Patients who reported that their nurses Always treated them with courtesy and respect                          Nurses always treated them with courtesy and  respect                   9516\n",
       "Patients who reported that their nurses Sometimes or Never  treated them with courtesy and respect             Nurses sometimes or never treated them with courtesy and  respect       9516\n",
       "Patients who reported that their nurses Sometimes or Never explained things in a way they could understand     Nurses sometimes or never explained things so they could understand     9516\n",
       "Patients who reported that their nurses Usually  treated them with courtesy and respect                        Nurses usually  treated them with courtesy and  respect                 9516\n",
       "Patients who reported that their doctors Always treated them with courtesy and respect                         Doctors always treated them with courtesy and  respect                  9516\n",
       "Length: 101, dtype: int64"
      ]
     },
     "execution_count": 12,
     "metadata": {},
     "output_type": "execute_result"
    }
   ],
   "source": [
    "df[['HCAHPS Question','HCAHPS Answer Description']].value_counts()"
   ]
  },
  {
   "cell_type": "markdown",
   "id": "3811a606",
   "metadata": {},
   "source": [
    "## Word Occurences in HCAHPS Answer Description"
   ]
  },
  {
   "cell_type": "code",
   "execution_count": 13,
   "id": "3cd3d863",
   "metadata": {
    "scrolled": false
   },
   "outputs": [
    {
     "name": "stdout",
     "output_type": "stream",
     "text": [
      "Most Frequent Words:\n",
      "patients: 515796 occurrences\n",
      "rating: 392467 occurrences\n",
      "hospital: 296376 occurrences\n",
      "staff: 291204 occurrences\n",
      "star: 272827 occurrences\n",
      "linear: 248899 occurrences\n",
      "mean: 248899 occurrences\n",
      "score: 248899 occurrences\n",
      "usually: 248347 occurrences\n",
      "explained: 185976 occurrences\n",
      "doctors: 157428 occurrences\n",
      "nurses: 157428 occurrences\n",
      "help: 147912 occurrences\n",
      "communicated: 143568 occurrences\n",
      "communication: 143568 occurrences\n",
      "recommend: 143568 occurrences\n",
      "information: 133776 occurrences\n",
      "left: 128880 occurrences\n",
      "received: 128880 occurrences\n",
      "soon: 128880 occurrences\n",
      "understood: 128880 occurrences\n",
      "wanted: 128880 occurrences\n",
      "care: 119640 occurrences\n",
      "agree: 104952 occurrences\n",
      "disagree: 104952 occurrences\n",
      "strongly: 104952 occurrences\n",
      "yes: 90816 occurrences\n",
      "did: 85920 occurrences\n",
      "clean: 71784 occurrences\n",
      "gave: 71784 occurrences\n",
      "night: 71784 occurrences\n",
      "quiet: 71784 occurrences\n",
      "room: 71784 occurrences\n",
      "discharge: 66888 occurrences\n",
      "carefully: 57096 occurrences\n",
      "courtesy: 57096 occurrences\n",
      "listened: 57096 occurrences\n",
      "medications: 57096 occurrences\n",
      "respect: 57096 occurrences\n",
      "things: 57096 occurrences\n",
      "treated: 57096 occurrences\n",
      "understand: 57096 occurrences\n",
      "pain: 48095 occurrences\n",
      "cleanliness: 47856 occurrences\n",
      "definitely: 47856 occurrences\n",
      "doctor: 47856 occurrences\n",
      "medicines: 47856 occurrences\n",
      "nurse: 47856 occurrences\n",
      "overall: 47856 occurrences\n",
      "probably: 47856 occurrences\n"
     ]
    }
   ],
   "source": [
    "# Import Count Vectorizer from Scikit Learn for words extraction\n",
    "from sklearn.feature_extraction.text import CountVectorizer\n",
    "# Import Wordcloud for words visualization\n",
    "from wordcloud import WordCloud\n",
    "\n",
    "# Create a word frequency matrix\n",
    "vectorizer = CountVectorizer(stop_words='english')\n",
    "word_freq_matrix = vectorizer.fit_transform(df['HCAHPS Answer Description'])\n",
    "\n",
    "# Get the most frequent words\n",
    "words = vectorizer.get_feature_names_out()\n",
    "word_counts = word_freq_matrix.sum(axis=0).tolist()[0]\n",
    "word_freq = dict(zip(words, word_counts))\n",
    "\n",
    "# Print the most frequent words\n",
    "print(\"Most Frequent Words:\")\n",
    "for word, count in sorted(word_freq.items(), key=lambda x: x[1], reverse=True)[:50]:\n",
    "    print(f\"{word}: {count} occurrences\")"
   ]
  },
  {
   "cell_type": "code",
   "execution_count": 14,
   "id": "db5d7c4c",
   "metadata": {},
   "outputs": [
    {
     "data": {
      "image/png": "[encoded data removed]",
      "text/plain": [
       "<Figure size 1000x600 with 1 Axes>"
      ]
     },
     "metadata": {},
     "output_type": "display_data"
    }
   ],
   "source": [
    "import matplotlib.pyplot as plt\n",
    "import seaborn as sns\n",
    "\n",
    "# Generate a word cloud\n",
    "wordcloud = WordCloud().generate_from_frequencies(word_freq)\n",
    "\n",
    "plt.figure(figsize=(10, 6))\n",
    "plt.imshow(wordcloud, interpolation='bilinear')\n",
    "\n",
    "plt.axis('off')\n",
    "plt.title('Word Cloud of Patient Answer Description')\n",
    "plt.show()"
   ]
  },
  {
   "cell_type": "code",
   "execution_count": 15,
   "id": "78a3d9b2",
   "metadata": {},
   "outputs": [
    {
     "data": {
      "text/plain": [
       "<wordcloud.wordcloud.WordCloud at 0x20b68e27f70>"
      ]
     },
     "execution_count": 15,
     "metadata": {},
     "output_type": "execute_result"
    }
   ],
   "source": [
    "wordcloud.to_file(r'C:\\Users\\hp\\Desktop\\MyYorkSJ\\WordOccurenceCloud.png')"
   ]
  },
  {
   "cell_type": "markdown",
   "id": "f03f55cb",
   "metadata": {},
   "source": [
    "### 6. Patient Survey Star Rating"
   ]
  },
  {
   "cell_type": "code",
   "execution_count": 16,
   "id": "5bcf9e56",
   "metadata": {},
   "outputs": [
    {
     "data": {
      "text/plain": [
       "Not Applicable    1380856\n",
       "Not Available       76826\n",
       "3                   71713\n",
       "4                   60899\n",
       "2                   37491\n",
       "5                   16563\n",
       "1                    9335\n",
       "Name: Patient Survey Star Rating, dtype: int64"
      ]
     },
     "execution_count": 16,
     "metadata": {},
     "output_type": "execute_result"
    }
   ],
   "source": [
    "df['Patient Survey Star Rating'].value_counts()"
   ]
  },
  {
   "cell_type": "markdown",
   "id": "de58a9c5",
   "metadata": {},
   "source": [
    "#### Investigate the relationship between HCAHPS Answer Rating and Patient Survey Star Rating"
   ]
  },
  {
   "cell_type": "code",
   "execution_count": 17,
   "id": "995b3466",
   "metadata": {
    "scrolled": true
   },
   "outputs": [
    {
     "data": {
      "text/html": [
       "<div>\n",
       "<style scoped>\n",
       "    .dataframe tbody tr th:only-of-type {\n",
       "        vertical-align: middle;\n",
       "    }\n",
       "\n",
       "    .dataframe tbody tr th {\n",
       "        vertical-align: top;\n",
       "    }\n",
       "\n",
       "    .dataframe thead th {\n",
       "        text-align: right;\n",
       "    }\n",
       "</style>\n",
       "<table border=\"1\" class=\"dataframe\">\n",
       "  <thead>\n",
       "    <tr style=\"text-align: right;\">\n",
       "      <th></th>\n",
       "      <th>HCAHPS Answer Description</th>\n",
       "      <th>Patient Survey Star Rating</th>\n",
       "    </tr>\n",
       "  </thead>\n",
       "  <tbody>\n",
       "    <tr>\n",
       "      <th>0</th>\n",
       "      <td>Nurses always communicated well</td>\n",
       "      <td>Not Applicable</td>\n",
       "    </tr>\n",
       "    <tr>\n",
       "      <th>1</th>\n",
       "      <td>Nurses sometimes or never communicated well</td>\n",
       "      <td>Not Applicable</td>\n",
       "    </tr>\n",
       "    <tr>\n",
       "      <th>2</th>\n",
       "      <td>Nurses usually communicated well</td>\n",
       "      <td>Not Applicable</td>\n",
       "    </tr>\n",
       "    <tr>\n",
       "      <th>3</th>\n",
       "      <td>Nurse communication - linear mean score</td>\n",
       "      <td>Not Applicable</td>\n",
       "    </tr>\n",
       "    <tr>\n",
       "      <th>5</th>\n",
       "      <td>Nurses always treated them with courtesy and  ...</td>\n",
       "      <td>Not Applicable</td>\n",
       "    </tr>\n",
       "    <tr>\n",
       "      <th>...</th>\n",
       "      <td>...</td>\n",
       "      <td>...</td>\n",
       "    </tr>\n",
       "    <tr>\n",
       "      <th>1653676</th>\n",
       "      <td>Quietness - linear mean score</td>\n",
       "      <td>Not Applicable</td>\n",
       "    </tr>\n",
       "    <tr>\n",
       "      <th>1653678</th>\n",
       "      <td>NO, patients would not recommend the hospital ...</td>\n",
       "      <td>Not Applicable</td>\n",
       "    </tr>\n",
       "    <tr>\n",
       "      <th>1653679</th>\n",
       "      <td>YES, patients would definitely recommend the h...</td>\n",
       "      <td>Not Applicable</td>\n",
       "    </tr>\n",
       "    <tr>\n",
       "      <th>1653680</th>\n",
       "      <td>Recommend hospital - linear mean score</td>\n",
       "      <td>Not Applicable</td>\n",
       "    </tr>\n",
       "    <tr>\n",
       "      <th>1653681</th>\n",
       "      <td>YES, patients would probably recommend the hos...</td>\n",
       "      <td>Not Applicable</td>\n",
       "    </tr>\n",
       "  </tbody>\n",
       "</table>\n",
       "<p>1380856 rows × 2 columns</p>\n",
       "</div>"
      ],
      "text/plain": [
       "                                 HCAHPS Answer Description  \\\n",
       "0                          Nurses always communicated well   \n",
       "1              Nurses sometimes or never communicated well   \n",
       "2                         Nurses usually communicated well   \n",
       "3                  Nurse communication - linear mean score   \n",
       "5        Nurses always treated them with courtesy and  ...   \n",
       "...                                                    ...   \n",
       "1653676                      Quietness - linear mean score   \n",
       "1653678  NO, patients would not recommend the hospital ...   \n",
       "1653679  YES, patients would definitely recommend the h...   \n",
       "1653680             Recommend hospital - linear mean score   \n",
       "1653681  YES, patients would probably recommend the hos...   \n",
       "\n",
       "        Patient Survey Star Rating  \n",
       "0                   Not Applicable  \n",
       "1                   Not Applicable  \n",
       "2                   Not Applicable  \n",
       "3                   Not Applicable  \n",
       "5                   Not Applicable  \n",
       "...                            ...  \n",
       "1653676             Not Applicable  \n",
       "1653678             Not Applicable  \n",
       "1653679             Not Applicable  \n",
       "1653680             Not Applicable  \n",
       "1653681             Not Applicable  \n",
       "\n",
       "[1380856 rows x 2 columns]"
      ]
     },
     "execution_count": 17,
     "metadata": {},
     "output_type": "execute_result"
    }
   ],
   "source": [
    "# Filter df to display HCAHPS Answer Description where Patitient Survey Star Rating is Not Applicable\n",
    "filtered_df = df[df['Patient Survey Star Rating'] == 'Not Applicable']\n",
    "\n",
    "filtered_df[['HCAHPS Answer Description','Patient Survey Star Rating']]"
   ]
  },
  {
   "cell_type": "markdown",
   "id": "0fa7709f",
   "metadata": {},
   "source": [
    "#### Drop rows where HCAHPS Answer Description conatined 'linear', 'mean', 'score', 'rating', and 'star' and Patient Survey Star Rating is 'Not Applicable'"
   ]
  },
  {
   "cell_type": "code",
   "execution_count": 18,
   "id": "246ff06b",
   "metadata": {},
   "outputs": [
    {
     "data": {
      "text/html": [
       "<div>\n",
       "<style scoped>\n",
       "    .dataframe tbody tr th:only-of-type {\n",
       "        vertical-align: middle;\n",
       "    }\n",
       "\n",
       "    .dataframe tbody tr th {\n",
       "        vertical-align: top;\n",
       "    }\n",
       "\n",
       "    .dataframe thead th {\n",
       "        text-align: right;\n",
       "    }\n",
       "</style>\n",
       "<table border=\"1\" class=\"dataframe\">\n",
       "  <thead>\n",
       "    <tr style=\"text-align: right;\">\n",
       "      <th></th>\n",
       "      <th>HCAHPS Answer Description</th>\n",
       "      <th>Patient Survey Star Rating</th>\n",
       "    </tr>\n",
       "  </thead>\n",
       "  <tbody>\n",
       "    <tr>\n",
       "      <th>0</th>\n",
       "      <td>Nurses always communicated well</td>\n",
       "      <td>Not Applicable</td>\n",
       "    </tr>\n",
       "    <tr>\n",
       "      <th>1</th>\n",
       "      <td>Nurses sometimes or never communicated well</td>\n",
       "      <td>Not Applicable</td>\n",
       "    </tr>\n",
       "    <tr>\n",
       "      <th>2</th>\n",
       "      <td>Nurses usually communicated well</td>\n",
       "      <td>Not Applicable</td>\n",
       "    </tr>\n",
       "    <tr>\n",
       "      <th>4</th>\n",
       "      <td>Nurses always treated them with courtesy and  ...</td>\n",
       "      <td>Not Applicable</td>\n",
       "    </tr>\n",
       "    <tr>\n",
       "      <th>5</th>\n",
       "      <td>Nurses sometimes or never treated them with co...</td>\n",
       "      <td>Not Applicable</td>\n",
       "    </tr>\n",
       "    <tr>\n",
       "      <th>...</th>\n",
       "      <td>...</td>\n",
       "      <td>...</td>\n",
       "    </tr>\n",
       "    <tr>\n",
       "      <th>1332993</th>\n",
       "      <td>Sometimes or never quiet at night</td>\n",
       "      <td>Not Applicable</td>\n",
       "    </tr>\n",
       "    <tr>\n",
       "      <th>1332994</th>\n",
       "      <td>Usually quiet at night</td>\n",
       "      <td>Not Applicable</td>\n",
       "    </tr>\n",
       "    <tr>\n",
       "      <th>1332996</th>\n",
       "      <td>NO, patients would not recommend the hospital ...</td>\n",
       "      <td>Not Applicable</td>\n",
       "    </tr>\n",
       "    <tr>\n",
       "      <th>1332997</th>\n",
       "      <td>YES, patients would definitely recommend the h...</td>\n",
       "      <td>Not Applicable</td>\n",
       "    </tr>\n",
       "    <tr>\n",
       "      <th>1332998</th>\n",
       "      <td>YES, patients would probably recommend the hos...</td>\n",
       "      <td>Not Applicable</td>\n",
       "    </tr>\n",
       "  </tbody>\n",
       "</table>\n",
       "<p>1060173 rows × 2 columns</p>\n",
       "</div>"
      ],
      "text/plain": [
       "                                 HCAHPS Answer Description  \\\n",
       "0                          Nurses always communicated well   \n",
       "1              Nurses sometimes or never communicated well   \n",
       "2                         Nurses usually communicated well   \n",
       "4        Nurses always treated them with courtesy and  ...   \n",
       "5        Nurses sometimes or never treated them with co...   \n",
       "...                                                    ...   \n",
       "1332993                  Sometimes or never quiet at night   \n",
       "1332994                             Usually quiet at night   \n",
       "1332996  NO, patients would not recommend the hospital ...   \n",
       "1332997  YES, patients would definitely recommend the h...   \n",
       "1332998  YES, patients would probably recommend the hos...   \n",
       "\n",
       "        Patient Survey Star Rating  \n",
       "0                   Not Applicable  \n",
       "1                   Not Applicable  \n",
       "2                   Not Applicable  \n",
       "4                   Not Applicable  \n",
       "5                   Not Applicable  \n",
       "...                            ...  \n",
       "1332993             Not Applicable  \n",
       "1332994             Not Applicable  \n",
       "1332996             Not Applicable  \n",
       "1332997             Not Applicable  \n",
       "1332998             Not Applicable  \n",
       "\n",
       "[1060173 rows x 2 columns]"
      ]
     },
     "execution_count": 18,
     "metadata": {},
     "output_type": "execute_result"
    }
   ],
   "source": [
    "# Define the list of words to check for in 'HCAHPS Answer Description'\n",
    "words_to_check = ['rating', 'score', 'star', 'linear', 'mean']\n",
    "\n",
    "# Identify rows to drop\n",
    "mask = (df['Patient Survey Star Rating'] == 'Not Applicable') & (df['HCAHPS Answer Description'].str.contains('|'.join(words_to_check)))\n",
    " \n",
    "# Drop rows based on the mask\n",
    "df = df[~mask].copy() # Copy not masked rows\n",
    "\n",
    "# Reset index to keep not masked rows and drop masked rows\n",
    "df.reset_index(drop=True, inplace=True)\n",
    "\n",
    "# Filter to confirm dropped rows\n",
    "filtered_df = df[df['Patient Survey Star Rating'] == 'Not Applicable']\n",
    "\n",
    "filtered_df[['HCAHPS Answer Description','Patient Survey Star Rating']]"
   ]
  },
  {
   "cell_type": "markdown",
   "id": "ac1473b7",
   "metadata": {},
   "source": [
    "#### Drop rows where HCAHPS Answer Description conatined 'linear', 'mean', 'score', 'rating', and 'star' and Patient Survey Star Rating is 'Not Available'"
   ]
  },
  {
   "cell_type": "code",
   "execution_count": 19,
   "id": "a7587e51",
   "metadata": {
    "scrolled": false
   },
   "outputs": [
    {
     "data": {
      "text/html": [
       "<div>\n",
       "<style scoped>\n",
       "    .dataframe tbody tr th:only-of-type {\n",
       "        vertical-align: middle;\n",
       "    }\n",
       "\n",
       "    .dataframe tbody tr th {\n",
       "        vertical-align: top;\n",
       "    }\n",
       "\n",
       "    .dataframe thead th {\n",
       "        text-align: right;\n",
       "    }\n",
       "</style>\n",
       "<table border=\"1\" class=\"dataframe\">\n",
       "  <thead>\n",
       "    <tr style=\"text-align: right;\">\n",
       "      <th></th>\n",
       "      <th>HCAHPS Answer Description</th>\n",
       "      <th>Patient Survey Star Rating</th>\n",
       "    </tr>\n",
       "  </thead>\n",
       "  <tbody>\n",
       "    <tr>\n",
       "      <th>323</th>\n",
       "      <td>Nurse communication - star rating</td>\n",
       "      <td>Not Available</td>\n",
       "    </tr>\n",
       "    <tr>\n",
       "      <th>336</th>\n",
       "      <td>Doctor communication - star rating</td>\n",
       "      <td>Not Available</td>\n",
       "    </tr>\n",
       "    <tr>\n",
       "      <th>349</th>\n",
       "      <td>Staff responsiveness - star rating</td>\n",
       "      <td>Not Available</td>\n",
       "    </tr>\n",
       "    <tr>\n",
       "      <th>359</th>\n",
       "      <td>Communication about medicines - star rating</td>\n",
       "      <td>Not Available</td>\n",
       "    </tr>\n",
       "    <tr>\n",
       "      <th>368</th>\n",
       "      <td>Discharge information - star rating</td>\n",
       "      <td>Not Available</td>\n",
       "    </tr>\n",
       "    <tr>\n",
       "      <th>...</th>\n",
       "      <td>...</td>\n",
       "      <td>...</td>\n",
       "    </tr>\n",
       "    <tr>\n",
       "      <th>1332985</th>\n",
       "      <td>Discharge information - star rating</td>\n",
       "      <td>Not Available</td>\n",
       "    </tr>\n",
       "    <tr>\n",
       "      <th>1332990</th>\n",
       "      <td>Care transition - star rating</td>\n",
       "      <td>Not Available</td>\n",
       "    </tr>\n",
       "    <tr>\n",
       "      <th>1332991</th>\n",
       "      <td>Overall hospital rating - star rating</td>\n",
       "      <td>Not Available</td>\n",
       "    </tr>\n",
       "    <tr>\n",
       "      <th>1332995</th>\n",
       "      <td>Quietness - star rating</td>\n",
       "      <td>Not Available</td>\n",
       "    </tr>\n",
       "    <tr>\n",
       "      <th>1332999</th>\n",
       "      <td>Recommend hospital - star rating</td>\n",
       "      <td>Not Available</td>\n",
       "    </tr>\n",
       "  </tbody>\n",
       "</table>\n",
       "<p>76826 rows × 2 columns</p>\n",
       "</div>"
      ],
      "text/plain": [
       "                           HCAHPS Answer Description  \\\n",
       "323                Nurse communication - star rating   \n",
       "336               Doctor communication - star rating   \n",
       "349               Staff responsiveness - star rating   \n",
       "359      Communication about medicines - star rating   \n",
       "368              Discharge information - star rating   \n",
       "...                                              ...   \n",
       "1332985          Discharge information - star rating   \n",
       "1332990                Care transition - star rating   \n",
       "1332991        Overall hospital rating - star rating   \n",
       "1332995                      Quietness - star rating   \n",
       "1332999             Recommend hospital - star rating   \n",
       "\n",
       "        Patient Survey Star Rating  \n",
       "323                  Not Available  \n",
       "336                  Not Available  \n",
       "349                  Not Available  \n",
       "359                  Not Available  \n",
       "368                  Not Available  \n",
       "...                            ...  \n",
       "1332985              Not Available  \n",
       "1332990              Not Available  \n",
       "1332991              Not Available  \n",
       "1332995              Not Available  \n",
       "1332999              Not Available  \n",
       "\n",
       "[76826 rows x 2 columns]"
      ]
     },
     "execution_count": 19,
     "metadata": {},
     "output_type": "execute_result"
    }
   ],
   "source": [
    "filtered_df = df[df['Patient Survey Star Rating'] == 'Not Available']\n",
    "\n",
    "filtered_df[['HCAHPS Answer Description','Patient Survey Star Rating']]"
   ]
  },
  {
   "cell_type": "code",
   "execution_count": 20,
   "id": "6bffab85",
   "metadata": {},
   "outputs": [
    {
     "data": {
      "text/html": [
       "<div>\n",
       "<style scoped>\n",
       "    .dataframe tbody tr th:only-of-type {\n",
       "        vertical-align: middle;\n",
       "    }\n",
       "\n",
       "    .dataframe tbody tr th {\n",
       "        vertical-align: top;\n",
       "    }\n",
       "\n",
       "    .dataframe thead th {\n",
       "        text-align: right;\n",
       "    }\n",
       "</style>\n",
       "<table border=\"1\" class=\"dataframe\">\n",
       "  <thead>\n",
       "    <tr style=\"text-align: right;\">\n",
       "      <th></th>\n",
       "      <th>HCAHPS Answer Description</th>\n",
       "      <th>Patient Survey Star Rating</th>\n",
       "    </tr>\n",
       "  </thead>\n",
       "  <tbody>\n",
       "  </tbody>\n",
       "</table>\n",
       "</div>"
      ],
      "text/plain": [
       "Empty DataFrame\n",
       "Columns: [HCAHPS Answer Description, Patient Survey Star Rating]\n",
       "Index: []"
      ]
     },
     "execution_count": 20,
     "metadata": {},
     "output_type": "execute_result"
    }
   ],
   "source": [
    "# Define the list of words to check for in 'HCAHPS Answer Description'\n",
    "words_to_check = ['rating', 'star']\n",
    "\n",
    "# Identify rows to drop\n",
    "mask = (df['Patient Survey Star Rating'] == 'Not Available') & (df['HCAHPS Answer Description'].str.contains('|'.join(words_to_check)))\n",
    "\n",
    "# Drop rows based on the mask\n",
    "df = df[~mask].copy() # Copy not masked rows\n",
    "\n",
    "# Reset index to keep not masked rows and drop masked rows\n",
    "df.reset_index(drop=True, inplace=True)\n",
    "\n",
    "# Filter to confirm dropped rows\n",
    "filtered_df = df[df['Patient Survey Star Rating'] == 'Not Available']\n",
    "\n",
    "filtered_df[['HCAHPS Answer Description','Patient Survey Star Rating']]"
   ]
  },
  {
   "cell_type": "markdown",
   "id": "785bc701",
   "metadata": {},
   "source": [
    "#### Rows where Patient Survey Star Rating contained 1, 2, 3, 4, and 5"
   ]
  },
  {
   "cell_type": "code",
   "execution_count": 22,
   "id": "2624d038",
   "metadata": {},
   "outputs": [
    {
     "data": {
      "text/html": [
       "<div>\n",
       "<style scoped>\n",
       "    .dataframe tbody tr th:only-of-type {\n",
       "        vertical-align: middle;\n",
       "    }\n",
       "\n",
       "    .dataframe tbody tr th {\n",
       "        vertical-align: top;\n",
       "    }\n",
       "\n",
       "    .dataframe thead th {\n",
       "        text-align: right;\n",
       "    }\n",
       "</style>\n",
       "<table border=\"1\" class=\"dataframe\">\n",
       "  <thead>\n",
       "    <tr style=\"text-align: right;\">\n",
       "      <th></th>\n",
       "      <th>HCAHPS Answer Description</th>\n",
       "      <th>Patient Survey Star Rating</th>\n",
       "    </tr>\n",
       "  </thead>\n",
       "  <tbody>\n",
       "    <tr>\n",
       "      <th>3</th>\n",
       "      <td>Nurse communication - star rating</td>\n",
       "      <td>3</td>\n",
       "    </tr>\n",
       "    <tr>\n",
       "      <th>16</th>\n",
       "      <td>Doctor communication - star rating</td>\n",
       "      <td>3</td>\n",
       "    </tr>\n",
       "    <tr>\n",
       "      <th>29</th>\n",
       "      <td>Staff responsiveness - star rating</td>\n",
       "      <td>3</td>\n",
       "    </tr>\n",
       "    <tr>\n",
       "      <th>39</th>\n",
       "      <td>Communication about medicines - star rating</td>\n",
       "      <td>3</td>\n",
       "    </tr>\n",
       "    <tr>\n",
       "      <th>48</th>\n",
       "      <td>Discharge information - star rating</td>\n",
       "      <td>4</td>\n",
       "    </tr>\n",
       "    <tr>\n",
       "      <th>...</th>\n",
       "      <td>...</td>\n",
       "      <td>...</td>\n",
       "    </tr>\n",
       "    <tr>\n",
       "      <th>1255985</th>\n",
       "      <td>Discharge information - star rating</td>\n",
       "      <td>3</td>\n",
       "    </tr>\n",
       "    <tr>\n",
       "      <th>1255990</th>\n",
       "      <td>Care transition - star rating</td>\n",
       "      <td>2</td>\n",
       "    </tr>\n",
       "    <tr>\n",
       "      <th>1255991</th>\n",
       "      <td>Overall hospital rating - star rating</td>\n",
       "      <td>4</td>\n",
       "    </tr>\n",
       "    <tr>\n",
       "      <th>1255995</th>\n",
       "      <td>Quietness - star rating</td>\n",
       "      <td>4</td>\n",
       "    </tr>\n",
       "    <tr>\n",
       "      <th>1255999</th>\n",
       "      <td>Recommend hospital - star rating</td>\n",
       "      <td>3</td>\n",
       "    </tr>\n",
       "  </tbody>\n",
       "</table>\n",
       "<p>196001 rows × 2 columns</p>\n",
       "</div>"
      ],
      "text/plain": [
       "                           HCAHPS Answer Description  \\\n",
       "3                  Nurse communication - star rating   \n",
       "16                Doctor communication - star rating   \n",
       "29                Staff responsiveness - star rating   \n",
       "39       Communication about medicines - star rating   \n",
       "48               Discharge information - star rating   \n",
       "...                                              ...   \n",
       "1255985          Discharge information - star rating   \n",
       "1255990                Care transition - star rating   \n",
       "1255991        Overall hospital rating - star rating   \n",
       "1255995                      Quietness - star rating   \n",
       "1255999             Recommend hospital - star rating   \n",
       "\n",
       "        Patient Survey Star Rating  \n",
       "3                                3  \n",
       "16                               3  \n",
       "29                               3  \n",
       "39                               3  \n",
       "48                               4  \n",
       "...                            ...  \n",
       "1255985                          3  \n",
       "1255990                          2  \n",
       "1255991                          4  \n",
       "1255995                          4  \n",
       "1255999                          3  \n",
       "\n",
       "[196001 rows x 2 columns]"
      ]
     },
     "execution_count": 22,
     "metadata": {},
     "output_type": "execute_result"
    }
   ],
   "source": [
    "filtered_df = df[df['Patient Survey Star Rating'].isin(['1', '2', '3', '4', '5'])]\n",
    "\n",
    "filtered_df[['HCAHPS Answer Description','Patient Survey Star Rating']]"
   ]
  },
  {
   "cell_type": "code",
   "execution_count": 23,
   "id": "78f91a90",
   "metadata": {
    "scrolled": true
   },
   "outputs": [
    {
     "data": {
      "text/plain": [
       "Not Applicable    1060173\n",
       "3                   71713\n",
       "4                   60899\n",
       "2                   37491\n",
       "5                   16563\n",
       "1                    9335\n",
       "Name: Patient Survey Star Rating, dtype: int64"
      ]
     },
     "execution_count": 23,
     "metadata": {},
     "output_type": "execute_result"
    }
   ],
   "source": [
    "df['Patient Survey Star Rating'].value_counts()"
   ]
  },
  {
   "cell_type": "markdown",
   "id": "0d772680",
   "metadata": {},
   "source": [
    "## 7. Year"
   ]
  },
  {
   "cell_type": "code",
   "execution_count": 24,
   "id": "d91e4ee2",
   "metadata": {
    "scrolled": false
   },
   "outputs": [
    {
     "data": {
      "text/plain": [
       "2019    365446\n",
       "2020    365309\n",
       "2017    181428\n",
       "2016    181379\n",
       "2018    162612\n",
       "Name: Year, dtype: int64"
      ]
     },
     "execution_count": 24,
     "metadata": {},
     "output_type": "execute_result"
    }
   ],
   "source": [
    "df['Year'].value_counts()"
   ]
  },
  {
   "cell_type": "markdown",
   "id": "d492ce24",
   "metadata": {},
   "source": [
    "## 8. Hospital Type"
   ]
  },
  {
   "cell_type": "code",
   "execution_count": 25,
   "id": "0fa50898",
   "metadata": {},
   "outputs": [
    {
     "data": {
      "text/plain": [
       "Acute Care Hospitals                  906787\n",
       "Critical Access Hospitals             325166\n",
       "Childrens                              21443\n",
       "Acute Care - Department of Defense      2778\n",
       "Name: Hospital Type, dtype: int64"
      ]
     },
     "execution_count": 25,
     "metadata": {},
     "output_type": "execute_result"
    }
   ],
   "source": [
    "df['Hospital Type'].value_counts()"
   ]
  },
  {
   "cell_type": "markdown",
   "id": "a004ec2a",
   "metadata": {},
   "source": [
    "#### Merge two Acute care hospitals into one"
   ]
  },
  {
   "cell_type": "code",
   "execution_count": 26,
   "id": "a46363a5",
   "metadata": {},
   "outputs": [],
   "source": [
    "# Merge Duplicate Hospital Types into one\n",
    "df['Hospital Type'] = df['Hospital Type'].replace(\n",
    "    {'Acute Care Hospitals': 'Acute Care', 'Acute Care - Department of Defense': 'Acute Care'})"
   ]
  },
  {
   "cell_type": "code",
   "execution_count": 27,
   "id": "1cb429ca",
   "metadata": {
    "scrolled": true
   },
   "outputs": [
    {
     "data": {
      "text/plain": [
       "array(['Acute Care', 'Critical Access Hospitals', 'Childrens'],\n",
       "      dtype=object)"
      ]
     },
     "execution_count": 27,
     "metadata": {},
     "output_type": "execute_result"
    }
   ],
   "source": [
    "df['Hospital Type'].unique()"
   ]
  },
  {
   "cell_type": "markdown",
   "id": "d9eae848",
   "metadata": {},
   "source": [
    "## 9. Hospital Ownership"
   ]
  },
  {
   "cell_type": "code",
   "execution_count": 28,
   "id": "af0c9bf9",
   "metadata": {},
   "outputs": [
    {
     "data": {
      "text/plain": [
       "Voluntary non-profit - Private                 555354\n",
       "Proprietary                                    209008\n",
       "Government - Hospital District or Authority    136257\n",
       "Voluntary non-profit - Other                   114098\n",
       "Government - Local                             101864\n",
       "Voluntary non-profit - Church                   88557\n",
       "Physician                                       18886\n",
       "Government - State                              16990\n",
       "Government - Federal                            10241\n",
       "Department of Defense                            2778\n",
       "Tribal                                           2141\n",
       "Name: Hospital Ownership, dtype: int64"
      ]
     },
     "execution_count": 28,
     "metadata": {},
     "output_type": "execute_result"
    }
   ],
   "source": [
    "df['Hospital Ownership'].value_counts()"
   ]
  },
  {
   "cell_type": "markdown",
   "id": "898c5962",
   "metadata": {},
   "source": [
    "#### Merge similar Hospital Ownership into one and create a new column Hospital Ownership Group"
   ]
  },
  {
   "cell_type": "code",
   "execution_count": 29,
   "id": "082046ce",
   "metadata": {},
   "outputs": [],
   "source": [
    "# Merge the similar hospital ownership to create a new column\n",
    "df['Hospital Ownership Group'] = df['Hospital Ownership'].replace({'Voluntary non-profit - Private': 'Voluntary non-profit',\n",
    "                                  'Voluntary non-profit - Church': 'Voluntary non-profit',\n",
    "                                  'Voluntary non-profit - Other': 'Voluntary non-profit',\n",
    "                                  'Proprietary': 'Proprietary',\n",
    "                                  'Physician': 'Proprietary',\n",
    "                                  'Tribal': 'Proprietary',\n",
    "                                  'Government - Local': 'Government',\n",
    "                                  'Government - Hospital District or Authority': 'Government',\n",
    "                                  'Government - State': 'Government',\n",
    "                                  'Government - Federal': 'Government',\n",
    "                                  'Department of Defense': 'Government',\n",
    "                                 })"
   ]
  },
  {
   "cell_type": "code",
   "execution_count": 30,
   "id": "80a1da8b",
   "metadata": {
    "scrolled": true
   },
   "outputs": [
    {
     "data": {
      "text/plain": [
       "Voluntary non-profit    758009\n",
       "Government              268130\n",
       "Proprietary             230035\n",
       "Name: Hospital Ownership Group, dtype: int64"
      ]
     },
     "execution_count": 30,
     "metadata": {},
     "output_type": "execute_result"
    }
   ],
   "source": [
    "df['Hospital Ownership Group'].value_counts()"
   ]
  },
  {
   "cell_type": "markdown",
   "id": "4851d259",
   "metadata": {},
   "source": [
    "## 10. Emergency Services"
   ]
  },
  {
   "cell_type": "code",
   "execution_count": 31,
   "id": "7edb2b81",
   "metadata": {
    "scrolled": true
   },
   "outputs": [
    {
     "data": {
      "text/plain": [
       "Yes    1169206\n",
       "No       86968\n",
       "Name: Emergency Services, dtype: int64"
      ]
     },
     "execution_count": 31,
     "metadata": {},
     "output_type": "execute_result"
    }
   ],
   "source": [
    "df['Emergency Services'].value_counts()"
   ]
  },
  {
   "cell_type": "markdown",
   "id": "882211e3",
   "metadata": {},
   "source": [
    "## 11. Criteria for Interoperabilty of EHRs"
   ]
  },
  {
   "cell_type": "code",
   "execution_count": 32,
   "id": "6a65480f",
   "metadata": {
    "scrolled": true
   },
   "outputs": [
    {
     "data": {
      "text/plain": [
       "Y                1096279\n",
       "Not Available         87\n",
       "Name: Meets criteria for promoting interoperability of EHRs, dtype: int64"
      ]
     },
     "execution_count": 32,
     "metadata": {},
     "output_type": "execute_result"
    }
   ],
   "source": [
    "df['Meets criteria for promoting interoperability of EHRs'].value_counts()"
   ]
  },
  {
   "cell_type": "markdown",
   "id": "af68f4d6",
   "metadata": {},
   "source": [
    "## 11. Hopspital Overall Rating"
   ]
  },
  {
   "cell_type": "code",
   "execution_count": 33,
   "id": "1fe2f55e",
   "metadata": {},
   "outputs": [
    {
     "data": {
      "text/plain": [
       "3                364939\n",
       "4                291562\n",
       "Not Available    265897\n",
       "2                200450\n",
       "5                 74728\n",
       "1                 58598\n",
       "Name: Hospital overall rating, dtype: int64"
      ]
     },
     "execution_count": 33,
     "metadata": {},
     "output_type": "execute_result"
    }
   ],
   "source": [
    "df['Hospital overall rating'].value_counts()"
   ]
  },
  {
   "cell_type": "markdown",
   "id": "350246ac",
   "metadata": {},
   "source": [
    "## 12. Mortality National Comparison"
   ]
  },
  {
   "cell_type": "code",
   "execution_count": 34,
   "id": "a835cc30",
   "metadata": {
    "scrolled": true
   },
   "outputs": [
    {
     "data": {
      "text/plain": [
       "Same as the national average    616795\n",
       "Not Available                   326442\n",
       "Same as the National average    108096\n",
       "Above the national average       91970\n",
       "Below the national average       82526\n",
       "Above the National average       16388\n",
       "Below the National average       13957\n",
       "Name: Mortality national comparison, dtype: int64"
      ]
     },
     "execution_count": 34,
     "metadata": {},
     "output_type": "execute_result"
    }
   ],
   "source": [
    "df['Mortality national comparison'].value_counts()"
   ]
  },
  {
   "cell_type": "markdown",
   "id": "74b687bd",
   "metadata": {},
   "source": [
    "## 13. Readmission National Comparison"
   ]
  },
  {
   "cell_type": "code",
   "execution_count": 35,
   "id": "2e62ddfb",
   "metadata": {
    "scrolled": true
   },
   "outputs": [
    {
     "data": {
      "text/plain": [
       "Above the national average      322016\n",
       "Below the national average      294623\n",
       "Same as the national average    262471\n",
       "Not Available                   227379\n",
       "Same as the National average     81105\n",
       "Below the National average       35341\n",
       "Above the National average       33239\n",
       "Name: Readmission national comparison, dtype: int64"
      ]
     },
     "execution_count": 35,
     "metadata": {},
     "output_type": "execute_result"
    }
   ],
   "source": [
    "df['Readmission national comparison'].value_counts()"
   ]
  },
  {
   "cell_type": "markdown",
   "id": "88181901",
   "metadata": {},
   "source": [
    "## 14. Safety of Care National Comparison"
   ]
  },
  {
   "cell_type": "code",
   "execution_count": 36,
   "id": "2eb2da45",
   "metadata": {
    "scrolled": true
   },
   "outputs": [
    {
     "data": {
      "text/plain": [
       "Not Available                   523525\n",
       "Above the national average      266574\n",
       "Below the national average      200635\n",
       "Same as the national average    156794\n",
       "Same as the National average     49126\n",
       "Above the National average       32255\n",
       "Below the National average       27265\n",
       "Name: Safety of care national comparison, dtype: int64"
      ]
     },
     "execution_count": 36,
     "metadata": {},
     "output_type": "execute_result"
    }
   ],
   "source": [
    "df['Safety of care national comparison'].value_counts()"
   ]
  },
  {
   "cell_type": "markdown",
   "id": "19ede0ff",
   "metadata": {},
   "source": [
    "## 15. Patient Experience National Comparison"
   ]
  },
  {
   "cell_type": "code",
   "execution_count": 37,
   "id": "7909a06f",
   "metadata": {},
   "outputs": [
    {
     "data": {
      "text/plain": [
       "Not Available                   306054\n",
       "Above the national average      279532\n",
       "Same as the national average    270082\n",
       "Below the national average      258892\n",
       "Above the National average       49897\n",
       "Same as the National average     47273\n",
       "Below the National average       44444\n",
       "Name: Patient experience national comparison, dtype: int64"
      ]
     },
     "execution_count": 37,
     "metadata": {},
     "output_type": "execute_result"
    }
   ],
   "source": [
    "df['Patient experience national comparison'].value_counts()"
   ]
  },
  {
   "cell_type": "markdown",
   "id": "7dccf6ba",
   "metadata": {},
   "source": [
    "## 16. Effectiveness of Care National Comparison"
   ]
  },
  {
   "cell_type": "code",
   "execution_count": 38,
   "id": "0924563d",
   "metadata": {},
   "outputs": [
    {
     "data": {
      "text/plain": [
       "Same as the national average    741021\n",
       "Not Available                   279625\n",
       "Same as the National average    128736\n",
       "Below the national average       63437\n",
       "Above the national average       28388\n",
       "Below the National average        9649\n",
       "Above the National average        5318\n",
       "Name: Effectiveness of care national comparison, dtype: int64"
      ]
     },
     "execution_count": 38,
     "metadata": {},
     "output_type": "execute_result"
    }
   ],
   "source": [
    "df['Effectiveness of care national comparison'].value_counts()"
   ]
  },
  {
   "cell_type": "markdown",
   "id": "ed7324a9",
   "metadata": {},
   "source": [
    "## 17. Timeliness of Care National Comparison"
   ]
  },
  {
   "cell_type": "code",
   "execution_count": 39,
   "id": "341fccc9",
   "metadata": {},
   "outputs": [
    {
     "data": {
      "text/plain": [
       "Same as the national average    339511\n",
       "Above the national average      278093\n",
       "Not Available                   253897\n",
       "Below the national average      243740\n",
       "Same as the National average     61256\n",
       "Above the National average       42608\n",
       "Below the National average       37069\n",
       "Name: Timeliness of care national comparison, dtype: int64"
      ]
     },
     "execution_count": 39,
     "metadata": {},
     "output_type": "execute_result"
    }
   ],
   "source": [
    "df['Timeliness of care national comparison'].value_counts()"
   ]
  },
  {
   "cell_type": "markdown",
   "id": "96da2484",
   "metadata": {},
   "source": [
    "## 18. Effecient Use of Medical Imaging National Comparison"
   ]
  },
  {
   "cell_type": "code",
   "execution_count": 40,
   "id": "e9293b92",
   "metadata": {},
   "outputs": [
    {
     "data": {
      "text/plain": [
       "Same as the national average    509198\n",
       "Not Available                   442084\n",
       "Above the national average       96222\n",
       "Below the national average       95672\n",
       "Same as the National average     83195\n",
       "Below the National average       15125\n",
       "Above the National average       14678\n",
       "Name: Efficient use of medical imaging national comparison, dtype: int64"
      ]
     },
     "execution_count": 40,
     "metadata": {},
     "output_type": "execute_result"
    }
   ],
   "source": [
    "df['Efficient use of medical imaging national comparison'].value_counts()"
   ]
  },
  {
   "cell_type": "markdown",
   "id": "d6491443",
   "metadata": {},
   "source": [
    "### Measure comaprisons words replacement"
   ]
  },
  {
   "cell_type": "code",
   "execution_count": 41,
   "id": "f3eebcae",
   "metadata": {
    "scrolled": true
   },
   "outputs": [],
   "source": [
    "df = df.replace({\n",
    "    'Same as the national average': 'Same',\n",
    "    'Same as the National average': 'Same',\n",
    "    'Below the national average': 'Below',\n",
    "    'Below the National average': 'Below',\n",
    "    'Above the national average': 'Above',\n",
    "    'Above the National average': 'Above',\n",
    "    'Not Available': np.nan\n",
    "    \n",
    "})"
   ]
  },
  {
   "cell_type": "markdown",
   "id": "f0174851",
   "metadata": {},
   "source": [
    "# Sentiment Analysis with VADER"
   ]
  },
  {
   "cell_type": "markdown",
   "id": "3c2fbca7",
   "metadata": {},
   "source": [
    "Sentiment analysis will only be done on rows not containing generated words like 'star' and 'rating' in the HCAHPS Answer Description column so as to successfuly perform the analysis on actual texts input in the survey by the patients."
   ]
  },
  {
   "cell_type": "code",
   "execution_count": 42,
   "id": "f88a00e5",
   "metadata": {
    "scrolled": true
   },
   "outputs": [],
   "source": [
    "# Create Sentiment DataFrame excluding HCAHPS Answer Description rows that contains 'star' and 'ratingg'\n",
    "df_sentiment = df[['HCAHPS Answer Description']].copy()\n",
    "\n",
    "# Identify rows to keep\n",
    "words_not_to_select = ['star', 'rating']\n",
    "mask = ~(df_sentiment['HCAHPS Answer Description'].str.contains('|'.join(words_not_to_select)))\n",
    "\n",
    "# Filter the DataFrame with the mask\n",
    "df_sentiment = df_sentiment[mask].copy() \n",
    "\n",
    "# Reset index to keep rows not mask and dropped masked rows\n",
    "df_sentiment.reset_index(drop=True, inplace=True)\n",
    "\n",
    "#print(df_sentiment['HCAHPS Answer Description'])"
   ]
  },
  {
   "cell_type": "markdown",
   "id": "7fe3a6db",
   "metadata": {},
   "source": [
    "#### Perform Vader Sentiment Analysis on texts in the column"
   ]
  },
  {
   "cell_type": "code",
   "execution_count": 43,
   "id": "b2d84ba5",
   "metadata": {},
   "outputs": [],
   "source": [
    "# Import Sentiment Intensity Analyzer from VADER Natural Language Toolkit \n",
    "from nltk.sentiment.vader import SentimentIntensityAnalyzer\n",
    "\n",
    "# Store the VADER sentiment analyzer in a variable\n",
    "sid = SentimentIntensityAnalyzer()\n",
    "\n",
    "# Apply VADER sentiment analysis to the 'HCAHPS Answer Description' column\n",
    "Sentiment_Score = df_sentiment['HCAHPS Answer Description'].apply(lambda x: sid.polarity_scores(x.lower())['compound'])"
   ]
  },
  {
   "cell_type": "code",
   "execution_count": 44,
   "id": "5f536c60",
   "metadata": {
    "scrolled": true
   },
   "outputs": [
    {
     "data": {
      "text/plain": [
       "array([ 0.2732, -0.2057,  0.6808,  0.128 , -0.0951,  0.    ,  0.4019,\n",
       "       -0.3089, -0.296 ,  0.6597,  0.6908,  0.0258,  0.7783,  0.3612,\n",
       "       -0.4767,  0.5574, -0.7703,  0.7845,  0.6369, -0.6266,  0.4939])"
      ]
     },
     "execution_count": 44,
     "metadata": {},
     "output_type": "execute_result"
    }
   ],
   "source": [
    "Sentiment_Score.unique()"
   ]
  },
  {
   "cell_type": "markdown",
   "id": "998c3546",
   "metadata": {},
   "source": [
    "### Create new column Sentiment Categories"
   ]
  },
  {
   "cell_type": "markdown",
   "id": "5e08b651",
   "metadata": {},
   "source": [
    "Use qcut function in pandas to divide the Sentiment_Score to 5 bins and assigned the lables to the bins in order from lowest to highest "
   ]
  },
  {
   "cell_type": "code",
   "execution_count": 45,
   "id": "ed6304a2",
   "metadata": {
    "scrolled": false
   },
   "outputs": [
    {
     "name": "stdout",
     "output_type": "stream",
     "text": [
      "Negative         276792\n",
      "Very Negative    220005\n",
      "Positive         205284\n",
      "Very Positive    200491\n",
      "Neutral          157601\n",
      "Name: Sentiment Categories, dtype: int64\n"
     ]
    }
   ],
   "source": [
    "# Use qcut function in pandas to divide the Sentiment_Score to 5 bins\n",
    "df_sentiment['Sentiment Categories'] = pd.qcut(Sentiment_Score, q=5, \n",
    "                                               labels=['Very Negative', 'Negative', 'Neutral', 'Positive', 'Very Positive'])\n",
    "\n",
    "# Print the sentiment categories\n",
    "print(df_sentiment['Sentiment Categories'].value_counts())"
   ]
  },
  {
   "cell_type": "code",
   "execution_count": null,
   "id": "62dd7f79",
   "metadata": {},
   "outputs": [],
   "source": []
  },
  {
   "cell_type": "markdown",
   "id": "725452fd",
   "metadata": {},
   "source": [
    "### Merge the sentiment dataframe back to the original dataframe"
   ]
  },
  {
   "cell_type": "code",
   "execution_count": 46,
   "id": "e22a0769",
   "metadata": {
    "scrolled": false
   },
   "outputs": [
    {
     "data": {
      "text/html": [
       "<div>\n",
       "<style scoped>\n",
       "    .dataframe tbody tr th:only-of-type {\n",
       "        vertical-align: middle;\n",
       "    }\n",
       "\n",
       "    .dataframe tbody tr th {\n",
       "        vertical-align: top;\n",
       "    }\n",
       "\n",
       "    .dataframe thead th {\n",
       "        text-align: right;\n",
       "    }\n",
       "</style>\n",
       "<table border=\"1\" class=\"dataframe\">\n",
       "  <thead>\n",
       "    <tr style=\"text-align: right;\">\n",
       "      <th></th>\n",
       "      <th>Facility ID</th>\n",
       "      <th>Facility Name</th>\n",
       "      <th>Address</th>\n",
       "      <th>City</th>\n",
       "      <th>State</th>\n",
       "      <th>Full State Name</th>\n",
       "      <th>ZIP Code</th>\n",
       "      <th>County Name</th>\n",
       "      <th>Phone Number</th>\n",
       "      <th>HCAHPS Measure ID</th>\n",
       "      <th>HCAHPS Question</th>\n",
       "      <th>HCAHPS Answer Description</th>\n",
       "      <th>Patient Survey Star Rating</th>\n",
       "      <th>HCAHPS Answer Percent</th>\n",
       "      <th>HCAHPS Linear Mean Value</th>\n",
       "      <th>Number of Completed Surveys</th>\n",
       "      <th>Survey Response Rate Percent</th>\n",
       "      <th>Start Date</th>\n",
       "      <th>End Date</th>\n",
       "      <th>Year</th>\n",
       "      <th>Hospital Type</th>\n",
       "      <th>Hospital Ownership</th>\n",
       "      <th>Emergency Services</th>\n",
       "      <th>Meets criteria for promoting interoperability of EHRs</th>\n",
       "      <th>Hospital overall rating</th>\n",
       "      <th>Mortality national comparison</th>\n",
       "      <th>Safety of care national comparison</th>\n",
       "      <th>Readmission national comparison</th>\n",
       "      <th>Patient experience national comparison</th>\n",
       "      <th>Effectiveness of care national comparison</th>\n",
       "      <th>Timeliness of care national comparison</th>\n",
       "      <th>Efficient use of medical imaging national comparison</th>\n",
       "      <th>Hospital Ownership Group</th>\n",
       "      <th>Sentiment Categories</th>\n",
       "    </tr>\n",
       "  </thead>\n",
       "  <tbody>\n",
       "    <tr>\n",
       "      <th>0</th>\n",
       "      <td>010001</td>\n",
       "      <td>SOUTHEAST ALABAMA MEDICAL CENTER</td>\n",
       "      <td>1108 ROSS CLARK CIRCLE</td>\n",
       "      <td>DOTHAN</td>\n",
       "      <td>AL</td>\n",
       "      <td>Alabama</td>\n",
       "      <td>36301</td>\n",
       "      <td>HOUSTON</td>\n",
       "      <td>(334) 793-8701</td>\n",
       "      <td>H_COMP_1_A_P</td>\n",
       "      <td>Patients who reported that their nurses Always...</td>\n",
       "      <td>Nurses always communicated well</td>\n",
       "      <td>Not Applicable</td>\n",
       "      <td>77</td>\n",
       "      <td>Not Applicable</td>\n",
       "      <td>535</td>\n",
       "      <td>22</td>\n",
       "      <td>07/01/2018</td>\n",
       "      <td>06/30/2019</td>\n",
       "      <td>2020</td>\n",
       "      <td>Acute Care</td>\n",
       "      <td>Government - Hospital District or Authority</td>\n",
       "      <td>Yes</td>\n",
       "      <td>Y</td>\n",
       "      <td>2</td>\n",
       "      <td>Below</td>\n",
       "      <td>Same</td>\n",
       "      <td>Below</td>\n",
       "      <td>Below</td>\n",
       "      <td>Same</td>\n",
       "      <td>Same</td>\n",
       "      <td>Same</td>\n",
       "      <td>Government</td>\n",
       "      <td>Neutral</td>\n",
       "    </tr>\n",
       "    <tr>\n",
       "      <th>1</th>\n",
       "      <td>010001</td>\n",
       "      <td>SOUTHEAST ALABAMA MEDICAL CENTER</td>\n",
       "      <td>1108 ROSS CLARK CIRCLE</td>\n",
       "      <td>DOTHAN</td>\n",
       "      <td>AL</td>\n",
       "      <td>Alabama</td>\n",
       "      <td>36301</td>\n",
       "      <td>HOUSTON</td>\n",
       "      <td>(334) 793-8701</td>\n",
       "      <td>H_COMP_1_SN_P</td>\n",
       "      <td>Patients who reported that their nurses Someti...</td>\n",
       "      <td>Nurses sometimes or never communicated well</td>\n",
       "      <td>Not Applicable</td>\n",
       "      <td>7</td>\n",
       "      <td>Not Applicable</td>\n",
       "      <td>535</td>\n",
       "      <td>22</td>\n",
       "      <td>07/01/2018</td>\n",
       "      <td>06/30/2019</td>\n",
       "      <td>2020</td>\n",
       "      <td>Acute Care</td>\n",
       "      <td>Government - Hospital District or Authority</td>\n",
       "      <td>Yes</td>\n",
       "      <td>Y</td>\n",
       "      <td>2</td>\n",
       "      <td>Below</td>\n",
       "      <td>Same</td>\n",
       "      <td>Below</td>\n",
       "      <td>Below</td>\n",
       "      <td>Same</td>\n",
       "      <td>Same</td>\n",
       "      <td>Same</td>\n",
       "      <td>Government</td>\n",
       "      <td>Very Negative</td>\n",
       "    </tr>\n",
       "    <tr>\n",
       "      <th>2</th>\n",
       "      <td>010001</td>\n",
       "      <td>SOUTHEAST ALABAMA MEDICAL CENTER</td>\n",
       "      <td>1108 ROSS CLARK CIRCLE</td>\n",
       "      <td>DOTHAN</td>\n",
       "      <td>AL</td>\n",
       "      <td>Alabama</td>\n",
       "      <td>36301</td>\n",
       "      <td>HOUSTON</td>\n",
       "      <td>(334) 793-8701</td>\n",
       "      <td>H_COMP_1_U_P</td>\n",
       "      <td>Patients who reported that their nurses Usuall...</td>\n",
       "      <td>Nurses usually communicated well</td>\n",
       "      <td>Not Applicable</td>\n",
       "      <td>16</td>\n",
       "      <td>Not Applicable</td>\n",
       "      <td>535</td>\n",
       "      <td>22</td>\n",
       "      <td>07/01/2018</td>\n",
       "      <td>06/30/2019</td>\n",
       "      <td>2020</td>\n",
       "      <td>Acute Care</td>\n",
       "      <td>Government - Hospital District or Authority</td>\n",
       "      <td>Yes</td>\n",
       "      <td>Y</td>\n",
       "      <td>2</td>\n",
       "      <td>Below</td>\n",
       "      <td>Same</td>\n",
       "      <td>Below</td>\n",
       "      <td>Below</td>\n",
       "      <td>Same</td>\n",
       "      <td>Same</td>\n",
       "      <td>Same</td>\n",
       "      <td>Government</td>\n",
       "      <td>Neutral</td>\n",
       "    </tr>\n",
       "    <tr>\n",
       "      <th>3</th>\n",
       "      <td>010001</td>\n",
       "      <td>SOUTHEAST ALABAMA MEDICAL CENTER</td>\n",
       "      <td>1108 ROSS CLARK CIRCLE</td>\n",
       "      <td>DOTHAN</td>\n",
       "      <td>AL</td>\n",
       "      <td>Alabama</td>\n",
       "      <td>36301</td>\n",
       "      <td>HOUSTON</td>\n",
       "      <td>(334) 793-8701</td>\n",
       "      <td>H_COMP_1_STAR_RATING</td>\n",
       "      <td>Nurse communication - star rating</td>\n",
       "      <td>Nurse communication - star rating</td>\n",
       "      <td>3</td>\n",
       "      <td>Not Applicable</td>\n",
       "      <td>Not Applicable</td>\n",
       "      <td>535</td>\n",
       "      <td>22</td>\n",
       "      <td>07/01/2018</td>\n",
       "      <td>06/30/2019</td>\n",
       "      <td>2020</td>\n",
       "      <td>Acute Care</td>\n",
       "      <td>Government - Hospital District or Authority</td>\n",
       "      <td>Yes</td>\n",
       "      <td>Y</td>\n",
       "      <td>2</td>\n",
       "      <td>Below</td>\n",
       "      <td>Same</td>\n",
       "      <td>Below</td>\n",
       "      <td>Below</td>\n",
       "      <td>Same</td>\n",
       "      <td>Same</td>\n",
       "      <td>Same</td>\n",
       "      <td>Government</td>\n",
       "      <td>Very Positive</td>\n",
       "    </tr>\n",
       "    <tr>\n",
       "      <th>4</th>\n",
       "      <td>010001</td>\n",
       "      <td>SOUTHEAST ALABAMA MEDICAL CENTER</td>\n",
       "      <td>1108 ROSS CLARK CIRCLE</td>\n",
       "      <td>DOTHAN</td>\n",
       "      <td>AL</td>\n",
       "      <td>Alabama</td>\n",
       "      <td>36301</td>\n",
       "      <td>HOUSTON</td>\n",
       "      <td>(334) 793-8701</td>\n",
       "      <td>H_NURSE_RESPECT_A_P</td>\n",
       "      <td>Patients who reported that their nurses Always...</td>\n",
       "      <td>Nurses always treated them with courtesy and  ...</td>\n",
       "      <td>Not Applicable</td>\n",
       "      <td>83</td>\n",
       "      <td>Not Applicable</td>\n",
       "      <td>535</td>\n",
       "      <td>22</td>\n",
       "      <td>07/01/2018</td>\n",
       "      <td>06/30/2019</td>\n",
       "      <td>2020</td>\n",
       "      <td>Acute Care</td>\n",
       "      <td>Government - Hospital District or Authority</td>\n",
       "      <td>Yes</td>\n",
       "      <td>Y</td>\n",
       "      <td>2</td>\n",
       "      <td>Below</td>\n",
       "      <td>Same</td>\n",
       "      <td>Below</td>\n",
       "      <td>Below</td>\n",
       "      <td>Same</td>\n",
       "      <td>Same</td>\n",
       "      <td>Same</td>\n",
       "      <td>Government</td>\n",
       "      <td>Very Positive</td>\n",
       "    </tr>\n",
       "  </tbody>\n",
       "</table>\n",
       "</div>"
      ],
      "text/plain": [
       "  Facility ID                     Facility Name                 Address  \\\n",
       "0      010001  SOUTHEAST ALABAMA MEDICAL CENTER  1108 ROSS CLARK CIRCLE   \n",
       "1      010001  SOUTHEAST ALABAMA MEDICAL CENTER  1108 ROSS CLARK CIRCLE   \n",
       "2      010001  SOUTHEAST ALABAMA MEDICAL CENTER  1108 ROSS CLARK CIRCLE   \n",
       "3      010001  SOUTHEAST ALABAMA MEDICAL CENTER  1108 ROSS CLARK CIRCLE   \n",
       "4      010001  SOUTHEAST ALABAMA MEDICAL CENTER  1108 ROSS CLARK CIRCLE   \n",
       "\n",
       "     City State Full State Name  ZIP Code County Name    Phone Number  \\\n",
       "0  DOTHAN    AL         Alabama     36301     HOUSTON  (334) 793-8701   \n",
       "1  DOTHAN    AL         Alabama     36301     HOUSTON  (334) 793-8701   \n",
       "2  DOTHAN    AL         Alabama     36301     HOUSTON  (334) 793-8701   \n",
       "3  DOTHAN    AL         Alabama     36301     HOUSTON  (334) 793-8701   \n",
       "4  DOTHAN    AL         Alabama     36301     HOUSTON  (334) 793-8701   \n",
       "\n",
       "      HCAHPS Measure ID                                    HCAHPS Question  \\\n",
       "0          H_COMP_1_A_P  Patients who reported that their nurses Always...   \n",
       "1         H_COMP_1_SN_P  Patients who reported that their nurses Someti...   \n",
       "2          H_COMP_1_U_P  Patients who reported that their nurses Usuall...   \n",
       "3  H_COMP_1_STAR_RATING                  Nurse communication - star rating   \n",
       "4   H_NURSE_RESPECT_A_P  Patients who reported that their nurses Always...   \n",
       "\n",
       "                           HCAHPS Answer Description  \\\n",
       "0                    Nurses always communicated well   \n",
       "1        Nurses sometimes or never communicated well   \n",
       "2                   Nurses usually communicated well   \n",
       "3                  Nurse communication - star rating   \n",
       "4  Nurses always treated them with courtesy and  ...   \n",
       "\n",
       "  Patient Survey Star Rating HCAHPS Answer Percent HCAHPS Linear Mean Value  \\\n",
       "0             Not Applicable                    77           Not Applicable   \n",
       "1             Not Applicable                     7           Not Applicable   \n",
       "2             Not Applicable                    16           Not Applicable   \n",
       "3                          3        Not Applicable           Not Applicable   \n",
       "4             Not Applicable                    83           Not Applicable   \n",
       "\n",
       "  Number of Completed Surveys Survey Response Rate Percent  Start Date  \\\n",
       "0                         535                           22  07/01/2018   \n",
       "1                         535                           22  07/01/2018   \n",
       "2                         535                           22  07/01/2018   \n",
       "3                         535                           22  07/01/2018   \n",
       "4                         535                           22  07/01/2018   \n",
       "\n",
       "     End Date  Year Hospital Type  \\\n",
       "0  06/30/2019  2020    Acute Care   \n",
       "1  06/30/2019  2020    Acute Care   \n",
       "2  06/30/2019  2020    Acute Care   \n",
       "3  06/30/2019  2020    Acute Care   \n",
       "4  06/30/2019  2020    Acute Care   \n",
       "\n",
       "                            Hospital Ownership Emergency Services  \\\n",
       "0  Government - Hospital District or Authority                Yes   \n",
       "1  Government - Hospital District or Authority                Yes   \n",
       "2  Government - Hospital District or Authority                Yes   \n",
       "3  Government - Hospital District or Authority                Yes   \n",
       "4  Government - Hospital District or Authority                Yes   \n",
       "\n",
       "  Meets criteria for promoting interoperability of EHRs  \\\n",
       "0                                                  Y      \n",
       "1                                                  Y      \n",
       "2                                                  Y      \n",
       "3                                                  Y      \n",
       "4                                                  Y      \n",
       "\n",
       "  Hospital overall rating Mortality national comparison  \\\n",
       "0                       2                         Below   \n",
       "1                       2                         Below   \n",
       "2                       2                         Below   \n",
       "3                       2                         Below   \n",
       "4                       2                         Below   \n",
       "\n",
       "  Safety of care national comparison Readmission national comparison  \\\n",
       "0                               Same                           Below   \n",
       "1                               Same                           Below   \n",
       "2                               Same                           Below   \n",
       "3                               Same                           Below   \n",
       "4                               Same                           Below   \n",
       "\n",
       "  Patient experience national comparison  \\\n",
       "0                                  Below   \n",
       "1                                  Below   \n",
       "2                                  Below   \n",
       "3                                  Below   \n",
       "4                                  Below   \n",
       "\n",
       "  Effectiveness of care national comparison  \\\n",
       "0                                      Same   \n",
       "1                                      Same   \n",
       "2                                      Same   \n",
       "3                                      Same   \n",
       "4                                      Same   \n",
       "\n",
       "  Timeliness of care national comparison  \\\n",
       "0                                   Same   \n",
       "1                                   Same   \n",
       "2                                   Same   \n",
       "3                                   Same   \n",
       "4                                   Same   \n",
       "\n",
       "  Efficient use of medical imaging national comparison  \\\n",
       "0                                               Same     \n",
       "1                                               Same     \n",
       "2                                               Same     \n",
       "3                                               Same     \n",
       "4                                               Same     \n",
       "\n",
       "  Hospital Ownership Group Sentiment Categories  \n",
       "0               Government              Neutral  \n",
       "1               Government        Very Negative  \n",
       "2               Government              Neutral  \n",
       "3               Government        Very Positive  \n",
       "4               Government        Very Positive  "
      ]
     },
     "execution_count": 46,
     "metadata": {},
     "output_type": "execute_result"
    }
   ],
   "source": [
    "# Reset the index of df_sentiment to match the original DataFrame's index\n",
    "df_sentiment.reset_index(drop=True, inplace=True)\n",
    "\n",
    "# Merge the sentiment analysis results back into the original DataFrame\n",
    "df['Sentiment Categories'] = df_sentiment['Sentiment Categories']\n",
    "\n",
    "\n",
    "# Print updated DataFrame\n",
    "df.head(5)"
   ]
  },
  {
   "cell_type": "markdown",
   "id": "7427e50e",
   "metadata": {},
   "source": [
    "### New column for sentiment value"
   ]
  },
  {
   "cell_type": "code",
   "execution_count": 47,
   "id": "a6c7775b",
   "metadata": {
    "scrolled": false
   },
   "outputs": [
    {
     "data": {
      "text/plain": [
       "0          3\n",
       "1          1\n",
       "2          3\n",
       "3          5\n",
       "4          5\n",
       "          ..\n",
       "1060168    2\n",
       "1060169    2\n",
       "1060170    1\n",
       "1060171    5\n",
       "1060172    5\n",
       "Name: Sentiment Value, Length: 1060173, dtype: int32"
      ]
     },
     "execution_count": 47,
     "metadata": {},
     "output_type": "execute_result"
    }
   ],
   "source": [
    "# Replace the sentiment categories values with equivalent number and store in new column \n",
    "df['Sentiment Value'] = df['Sentiment Categories'].replace({\n",
    "    'Very Positive': 5,\n",
    "    'Positive': 4,\n",
    "    'Neutral': 3,\n",
    "    'Negative': 2,\n",
    "    'Very Negative': 1\n",
    "})\n",
    "\n",
    "# Drop rows where 'Sentiment Value' is NaN\n",
    "df = df.dropna(subset=['Sentiment Value'])\n",
    "\n",
    "df['Sentiment Value'].astype(int)"
   ]
  },
  {
   "cell_type": "code",
   "execution_count": 49,
   "id": "50529837",
   "metadata": {
    "scrolled": true
   },
   "outputs": [
    {
     "data": {
      "text/html": [
       "<div>\n",
       "<style scoped>\n",
       "    .dataframe tbody tr th:only-of-type {\n",
       "        vertical-align: middle;\n",
       "    }\n",
       "\n",
       "    .dataframe tbody tr th {\n",
       "        vertical-align: top;\n",
       "    }\n",
       "\n",
       "    .dataframe thead th {\n",
       "        text-align: right;\n",
       "    }\n",
       "</style>\n",
       "<table border=\"1\" class=\"dataframe\">\n",
       "  <thead>\n",
       "    <tr style=\"text-align: right;\">\n",
       "      <th></th>\n",
       "      <th>HCAHPS Answer Description</th>\n",
       "      <th>Sentiment Categories</th>\n",
       "      <th>Sentiment Value</th>\n",
       "    </tr>\n",
       "  </thead>\n",
       "  <tbody>\n",
       "    <tr>\n",
       "      <th>0</th>\n",
       "      <td>Nurses always communicated well</td>\n",
       "      <td>Neutral</td>\n",
       "      <td>3</td>\n",
       "    </tr>\n",
       "    <tr>\n",
       "      <th>1</th>\n",
       "      <td>Nurses sometimes or never communicated well</td>\n",
       "      <td>Very Negative</td>\n",
       "      <td>1</td>\n",
       "    </tr>\n",
       "    <tr>\n",
       "      <th>2</th>\n",
       "      <td>Nurses usually communicated well</td>\n",
       "      <td>Neutral</td>\n",
       "      <td>3</td>\n",
       "    </tr>\n",
       "    <tr>\n",
       "      <th>3</th>\n",
       "      <td>Nurse communication - star rating</td>\n",
       "      <td>Very Positive</td>\n",
       "      <td>5</td>\n",
       "    </tr>\n",
       "    <tr>\n",
       "      <th>4</th>\n",
       "      <td>Nurses always treated them with courtesy and  ...</td>\n",
       "      <td>Very Positive</td>\n",
       "      <td>5</td>\n",
       "    </tr>\n",
       "    <tr>\n",
       "      <th>5</th>\n",
       "      <td>Nurses sometimes or never treated them with co...</td>\n",
       "      <td>Very Positive</td>\n",
       "      <td>5</td>\n",
       "    </tr>\n",
       "    <tr>\n",
       "      <th>6</th>\n",
       "      <td>Nurses usually  treated them with courtesy and...</td>\n",
       "      <td>Neutral</td>\n",
       "      <td>3</td>\n",
       "    </tr>\n",
       "    <tr>\n",
       "      <th>7</th>\n",
       "      <td>Nurses always listened carefully</td>\n",
       "      <td>Negative</td>\n",
       "      <td>2</td>\n",
       "    </tr>\n",
       "    <tr>\n",
       "      <th>8</th>\n",
       "      <td>Nurses sometimes or never listened carefully</td>\n",
       "      <td>Neutral</td>\n",
       "      <td>3</td>\n",
       "    </tr>\n",
       "    <tr>\n",
       "      <th>9</th>\n",
       "      <td>Nurses usually listened carefully</td>\n",
       "      <td>Negative</td>\n",
       "      <td>2</td>\n",
       "    </tr>\n",
       "  </tbody>\n",
       "</table>\n",
       "</div>"
      ],
      "text/plain": [
       "                           HCAHPS Answer Description Sentiment Categories  \\\n",
       "0                    Nurses always communicated well              Neutral   \n",
       "1        Nurses sometimes or never communicated well        Very Negative   \n",
       "2                   Nurses usually communicated well              Neutral   \n",
       "3                  Nurse communication - star rating        Very Positive   \n",
       "4  Nurses always treated them with courtesy and  ...        Very Positive   \n",
       "5  Nurses sometimes or never treated them with co...        Very Positive   \n",
       "6  Nurses usually  treated them with courtesy and...              Neutral   \n",
       "7                   Nurses always listened carefully             Negative   \n",
       "8       Nurses sometimes or never listened carefully              Neutral   \n",
       "9                  Nurses usually listened carefully             Negative   \n",
       "\n",
       "  Sentiment Value  \n",
       "0               3  \n",
       "1               1  \n",
       "2               3  \n",
       "3               5  \n",
       "4               5  \n",
       "5               5  \n",
       "6               3  \n",
       "7               2  \n",
       "8               3  \n",
       "9               2  "
      ]
     },
     "execution_count": 49,
     "metadata": {},
     "output_type": "execute_result"
    }
   ],
   "source": [
    "df[['HCAHPS Answer Description', 'Sentiment Categories', 'Sentiment Value']].head(10)"
   ]
  },
  {
   "cell_type": "markdown",
   "id": "5a684540",
   "metadata": {},
   "source": [
    "### Setting the Eligible for Funding criteria"
   ]
  },
  {
   "cell_type": "code",
   "execution_count": 50,
   "id": "1198d6a3",
   "metadata": {
    "scrolled": true
   },
   "outputs": [],
   "source": [
    "pointers = df[['Emergency Services','Mortality national comparison',\n",
    "                  'Safety of care national comparison', \n",
    "                  'Readmission national comparison',\n",
    "                  'Patient experience national comparison',\n",
    "                  'Effectiveness of care national comparison',\n",
    "                  'Timeliness of care national comparison',\n",
    "                  'Efficient use of medical imaging national comparison',\n",
    "                   'Sentiment Value']]"
   ]
  },
  {
   "cell_type": "markdown",
   "id": "ccf7cd6f",
   "metadata": {},
   "source": [
    "* Set weight score to columns by their level of importance\n",
    "* Set point scores for values in the columns\n",
    "* Apply point scores to each columns\n",
    "* Sum the point scores on each Pointers DataFrame rows and multiply with the column weighted score\n",
    "* Set threshold to the median of the weighted total point on each row\n",
    "* Set eligibility to 1 if weighted total score is greater than median and 0 if not"
   ]
  },
  {
   "cell_type": "code",
   "execution_count": 50,
   "id": "86ad2390",
   "metadata": {},
   "outputs": [],
   "source": [
    "# Define weight dictionary\n",
    "weight_mapping = {\n",
    "    'Emergency Services': 1,\n",
    "    'Mortality national comparison': 3,\n",
    "    'Safety of care national comparison': 2,\n",
    "    'Readmission national comparison': 3,\n",
    "    'Patient experience national comparison': 2,\n",
    "    'Effectiveness of care national comparison': 2,\n",
    "    'Timeliness of care national comparison': 2,\n",
    "    'Efficient use of medical imaging national comparison': 1,\n",
    "    'Sentiment Value': 2\n",
    "}\n",
    "\n",
    "# Assign points based on column values\n",
    "points_mapping = {\n",
    "    'Yes': 1, 'No': 0,\n",
    "    'Above': 2, 'Same': 1, 'Below': 0,\n",
    "    5: 5, 4: 4, 3: 3, 2: 2, 1: 1\n",
    "}\n",
    "\n",
    "# Define mappings for 'Mortality national comparison' and 'Readmission national comparison' columns\n",
    "neg_comp_mappings = {\n",
    "    'Mortality national comparison': {'Above': 0, 'Same': 1, 'Below': 2},\n",
    "    'Readmission national comparison': {'Above': 0, 'Same': 1, 'Below': 2}\n",
    "}\n",
    "\n",
    "# Apply mappings for each column\n",
    "for col in pointers.columns:\n",
    "    if col == 'Emergency Services':\n",
    "        pointers[col] = pointers[col].map({'Yes': 1, 'No': 0})\n",
    "    elif col in neg_comp_mappings:\n",
    "        pointers[col] = pointers[col].map(neg_comp_mappings[col]).fillna(pointers[col].map(points_mapping))\n",
    "    else:\n",
    "        pointers[col] = pointers[col].map(points_mapping)\n",
    "\n",
    "# Fill NaN values with 0\n",
    "pointers = pointers.fillna(0)\n",
    "\n",
    "# Calculate weighted total score for each row\n",
    "pointers['Weighted Total Score'] = pointers.apply(lambda row: sum(row[col] * weight_mapping.get(col, 0) for col in pointers.columns), axis=1)\n",
    "\n",
    "# Determine threshold\n",
    "threshold = np.median(pointers['Weighted Total Score'])\n",
    "\n",
    "# Assign label based on threshold\n",
    "df['Eligible For Funding'] = np.where(pointers['Weighted Total Score'] >= threshold, 1, 0)\n",
    "\n",
    "# Print the resulting DataFrame\n",
    "#print(pointers.head())"
   ]
  },
  {
   "cell_type": "code",
   "execution_count": 51,
   "id": "25e66c6b",
   "metadata": {
    "scrolled": true
   },
   "outputs": [
    {
     "data": {
      "text/plain": [
       "1    584932\n",
       "0    475241\n",
       "Name: Eligible For Funding, dtype: int64"
      ]
     },
     "execution_count": 51,
     "metadata": {},
     "output_type": "execute_result"
    }
   ],
   "source": [
    "df['Eligible For Funding'].value_counts()"
   ]
  },
  {
   "cell_type": "code",
   "execution_count": 52,
   "id": "27a02633",
   "metadata": {
    "scrolled": false
   },
   "outputs": [
    {
     "data": {
      "text/html": [
       "<div>\n",
       "<style scoped>\n",
       "    .dataframe tbody tr th:only-of-type {\n",
       "        vertical-align: middle;\n",
       "    }\n",
       "\n",
       "    .dataframe tbody tr th {\n",
       "        vertical-align: top;\n",
       "    }\n",
       "\n",
       "    .dataframe thead th {\n",
       "        text-align: right;\n",
       "    }\n",
       "</style>\n",
       "<table border=\"1\" class=\"dataframe\">\n",
       "  <thead>\n",
       "    <tr style=\"text-align: right;\">\n",
       "      <th></th>\n",
       "      <th>Facility ID</th>\n",
       "      <th>Facility Name</th>\n",
       "      <th>Address</th>\n",
       "      <th>City</th>\n",
       "      <th>State</th>\n",
       "      <th>Full State Name</th>\n",
       "      <th>ZIP Code</th>\n",
       "      <th>County Name</th>\n",
       "      <th>Phone Number</th>\n",
       "      <th>HCAHPS Measure ID</th>\n",
       "      <th>HCAHPS Question</th>\n",
       "      <th>HCAHPS Answer Description</th>\n",
       "      <th>Patient Survey Star Rating</th>\n",
       "      <th>HCAHPS Answer Percent</th>\n",
       "      <th>HCAHPS Linear Mean Value</th>\n",
       "      <th>Number of Completed Surveys</th>\n",
       "      <th>Survey Response Rate Percent</th>\n",
       "      <th>Start Date</th>\n",
       "      <th>End Date</th>\n",
       "      <th>Year</th>\n",
       "      <th>Hospital Type</th>\n",
       "      <th>Hospital Ownership</th>\n",
       "      <th>Emergency Services</th>\n",
       "      <th>Meets criteria for promoting interoperability of EHRs</th>\n",
       "      <th>Hospital overall rating</th>\n",
       "      <th>Mortality national comparison</th>\n",
       "      <th>Safety of care national comparison</th>\n",
       "      <th>Readmission national comparison</th>\n",
       "      <th>Patient experience national comparison</th>\n",
       "      <th>Effectiveness of care national comparison</th>\n",
       "      <th>Timeliness of care national comparison</th>\n",
       "      <th>Efficient use of medical imaging national comparison</th>\n",
       "      <th>Hospital Ownership Group</th>\n",
       "      <th>Sentiment Categories</th>\n",
       "      <th>Sentiment Value</th>\n",
       "      <th>Eligible For Funding</th>\n",
       "    </tr>\n",
       "  </thead>\n",
       "  <tbody>\n",
       "    <tr>\n",
       "      <th>0</th>\n",
       "      <td>010001</td>\n",
       "      <td>SOUTHEAST ALABAMA MEDICAL CENTER</td>\n",
       "      <td>1108 ROSS CLARK CIRCLE</td>\n",
       "      <td>DOTHAN</td>\n",
       "      <td>AL</td>\n",
       "      <td>Alabama</td>\n",
       "      <td>36301</td>\n",
       "      <td>HOUSTON</td>\n",
       "      <td>(334) 793-8701</td>\n",
       "      <td>H_COMP_1_A_P</td>\n",
       "      <td>Patients who reported that their nurses Always...</td>\n",
       "      <td>Nurses always communicated well</td>\n",
       "      <td>Not Applicable</td>\n",
       "      <td>77</td>\n",
       "      <td>Not Applicable</td>\n",
       "      <td>535</td>\n",
       "      <td>22</td>\n",
       "      <td>07/01/2018</td>\n",
       "      <td>06/30/2019</td>\n",
       "      <td>2020</td>\n",
       "      <td>Acute Care</td>\n",
       "      <td>Government - Hospital District or Authority</td>\n",
       "      <td>Yes</td>\n",
       "      <td>Y</td>\n",
       "      <td>2</td>\n",
       "      <td>Below</td>\n",
       "      <td>Same</td>\n",
       "      <td>Below</td>\n",
       "      <td>Below</td>\n",
       "      <td>Same</td>\n",
       "      <td>Same</td>\n",
       "      <td>Same</td>\n",
       "      <td>Government</td>\n",
       "      <td>Neutral</td>\n",
       "      <td>3</td>\n",
       "      <td>1</td>\n",
       "    </tr>\n",
       "    <tr>\n",
       "      <th>1</th>\n",
       "      <td>010001</td>\n",
       "      <td>SOUTHEAST ALABAMA MEDICAL CENTER</td>\n",
       "      <td>1108 ROSS CLARK CIRCLE</td>\n",
       "      <td>DOTHAN</td>\n",
       "      <td>AL</td>\n",
       "      <td>Alabama</td>\n",
       "      <td>36301</td>\n",
       "      <td>HOUSTON</td>\n",
       "      <td>(334) 793-8701</td>\n",
       "      <td>H_COMP_1_SN_P</td>\n",
       "      <td>Patients who reported that their nurses Someti...</td>\n",
       "      <td>Nurses sometimes or never communicated well</td>\n",
       "      <td>Not Applicable</td>\n",
       "      <td>7</td>\n",
       "      <td>Not Applicable</td>\n",
       "      <td>535</td>\n",
       "      <td>22</td>\n",
       "      <td>07/01/2018</td>\n",
       "      <td>06/30/2019</td>\n",
       "      <td>2020</td>\n",
       "      <td>Acute Care</td>\n",
       "      <td>Government - Hospital District or Authority</td>\n",
       "      <td>Yes</td>\n",
       "      <td>Y</td>\n",
       "      <td>2</td>\n",
       "      <td>Below</td>\n",
       "      <td>Same</td>\n",
       "      <td>Below</td>\n",
       "      <td>Below</td>\n",
       "      <td>Same</td>\n",
       "      <td>Same</td>\n",
       "      <td>Same</td>\n",
       "      <td>Government</td>\n",
       "      <td>Very Negative</td>\n",
       "      <td>1</td>\n",
       "      <td>1</td>\n",
       "    </tr>\n",
       "    <tr>\n",
       "      <th>2</th>\n",
       "      <td>010001</td>\n",
       "      <td>SOUTHEAST ALABAMA MEDICAL CENTER</td>\n",
       "      <td>1108 ROSS CLARK CIRCLE</td>\n",
       "      <td>DOTHAN</td>\n",
       "      <td>AL</td>\n",
       "      <td>Alabama</td>\n",
       "      <td>36301</td>\n",
       "      <td>HOUSTON</td>\n",
       "      <td>(334) 793-8701</td>\n",
       "      <td>H_COMP_1_U_P</td>\n",
       "      <td>Patients who reported that their nurses Usuall...</td>\n",
       "      <td>Nurses usually communicated well</td>\n",
       "      <td>Not Applicable</td>\n",
       "      <td>16</td>\n",
       "      <td>Not Applicable</td>\n",
       "      <td>535</td>\n",
       "      <td>22</td>\n",
       "      <td>07/01/2018</td>\n",
       "      <td>06/30/2019</td>\n",
       "      <td>2020</td>\n",
       "      <td>Acute Care</td>\n",
       "      <td>Government - Hospital District or Authority</td>\n",
       "      <td>Yes</td>\n",
       "      <td>Y</td>\n",
       "      <td>2</td>\n",
       "      <td>Below</td>\n",
       "      <td>Same</td>\n",
       "      <td>Below</td>\n",
       "      <td>Below</td>\n",
       "      <td>Same</td>\n",
       "      <td>Same</td>\n",
       "      <td>Same</td>\n",
       "      <td>Government</td>\n",
       "      <td>Neutral</td>\n",
       "      <td>3</td>\n",
       "      <td>1</td>\n",
       "    </tr>\n",
       "    <tr>\n",
       "      <th>3</th>\n",
       "      <td>010001</td>\n",
       "      <td>SOUTHEAST ALABAMA MEDICAL CENTER</td>\n",
       "      <td>1108 ROSS CLARK CIRCLE</td>\n",
       "      <td>DOTHAN</td>\n",
       "      <td>AL</td>\n",
       "      <td>Alabama</td>\n",
       "      <td>36301</td>\n",
       "      <td>HOUSTON</td>\n",
       "      <td>(334) 793-8701</td>\n",
       "      <td>H_COMP_1_STAR_RATING</td>\n",
       "      <td>Nurse communication - star rating</td>\n",
       "      <td>Nurse communication - star rating</td>\n",
       "      <td>3</td>\n",
       "      <td>Not Applicable</td>\n",
       "      <td>Not Applicable</td>\n",
       "      <td>535</td>\n",
       "      <td>22</td>\n",
       "      <td>07/01/2018</td>\n",
       "      <td>06/30/2019</td>\n",
       "      <td>2020</td>\n",
       "      <td>Acute Care</td>\n",
       "      <td>Government - Hospital District or Authority</td>\n",
       "      <td>Yes</td>\n",
       "      <td>Y</td>\n",
       "      <td>2</td>\n",
       "      <td>Below</td>\n",
       "      <td>Same</td>\n",
       "      <td>Below</td>\n",
       "      <td>Below</td>\n",
       "      <td>Same</td>\n",
       "      <td>Same</td>\n",
       "      <td>Same</td>\n",
       "      <td>Government</td>\n",
       "      <td>Very Positive</td>\n",
       "      <td>5</td>\n",
       "      <td>1</td>\n",
       "    </tr>\n",
       "  </tbody>\n",
       "</table>\n",
       "</div>"
      ],
      "text/plain": [
       "  Facility ID                     Facility Name                 Address  \\\n",
       "0      010001  SOUTHEAST ALABAMA MEDICAL CENTER  1108 ROSS CLARK CIRCLE   \n",
       "1      010001  SOUTHEAST ALABAMA MEDICAL CENTER  1108 ROSS CLARK CIRCLE   \n",
       "2      010001  SOUTHEAST ALABAMA MEDICAL CENTER  1108 ROSS CLARK CIRCLE   \n",
       "3      010001  SOUTHEAST ALABAMA MEDICAL CENTER  1108 ROSS CLARK CIRCLE   \n",
       "\n",
       "     City State Full State Name  ZIP Code County Name    Phone Number  \\\n",
       "0  DOTHAN    AL         Alabama     36301     HOUSTON  (334) 793-8701   \n",
       "1  DOTHAN    AL         Alabama     36301     HOUSTON  (334) 793-8701   \n",
       "2  DOTHAN    AL         Alabama     36301     HOUSTON  (334) 793-8701   \n",
       "3  DOTHAN    AL         Alabama     36301     HOUSTON  (334) 793-8701   \n",
       "\n",
       "      HCAHPS Measure ID                                    HCAHPS Question  \\\n",
       "0          H_COMP_1_A_P  Patients who reported that their nurses Always...   \n",
       "1         H_COMP_1_SN_P  Patients who reported that their nurses Someti...   \n",
       "2          H_COMP_1_U_P  Patients who reported that their nurses Usuall...   \n",
       "3  H_COMP_1_STAR_RATING                  Nurse communication - star rating   \n",
       "\n",
       "                     HCAHPS Answer Description Patient Survey Star Rating  \\\n",
       "0              Nurses always communicated well             Not Applicable   \n",
       "1  Nurses sometimes or never communicated well             Not Applicable   \n",
       "2             Nurses usually communicated well             Not Applicable   \n",
       "3            Nurse communication - star rating                          3   \n",
       "\n",
       "  HCAHPS Answer Percent HCAHPS Linear Mean Value Number of Completed Surveys  \\\n",
       "0                    77           Not Applicable                         535   \n",
       "1                     7           Not Applicable                         535   \n",
       "2                    16           Not Applicable                         535   \n",
       "3        Not Applicable           Not Applicable                         535   \n",
       "\n",
       "  Survey Response Rate Percent  Start Date    End Date  Year Hospital Type  \\\n",
       "0                           22  07/01/2018  06/30/2019  2020    Acute Care   \n",
       "1                           22  07/01/2018  06/30/2019  2020    Acute Care   \n",
       "2                           22  07/01/2018  06/30/2019  2020    Acute Care   \n",
       "3                           22  07/01/2018  06/30/2019  2020    Acute Care   \n",
       "\n",
       "                            Hospital Ownership Emergency Services  \\\n",
       "0  Government - Hospital District or Authority                Yes   \n",
       "1  Government - Hospital District or Authority                Yes   \n",
       "2  Government - Hospital District or Authority                Yes   \n",
       "3  Government - Hospital District or Authority                Yes   \n",
       "\n",
       "  Meets criteria for promoting interoperability of EHRs  \\\n",
       "0                                                  Y      \n",
       "1                                                  Y      \n",
       "2                                                  Y      \n",
       "3                                                  Y      \n",
       "\n",
       "  Hospital overall rating Mortality national comparison  \\\n",
       "0                       2                         Below   \n",
       "1                       2                         Below   \n",
       "2                       2                         Below   \n",
       "3                       2                         Below   \n",
       "\n",
       "  Safety of care national comparison Readmission national comparison  \\\n",
       "0                               Same                           Below   \n",
       "1                               Same                           Below   \n",
       "2                               Same                           Below   \n",
       "3                               Same                           Below   \n",
       "\n",
       "  Patient experience national comparison  \\\n",
       "0                                  Below   \n",
       "1                                  Below   \n",
       "2                                  Below   \n",
       "3                                  Below   \n",
       "\n",
       "  Effectiveness of care national comparison  \\\n",
       "0                                      Same   \n",
       "1                                      Same   \n",
       "2                                      Same   \n",
       "3                                      Same   \n",
       "\n",
       "  Timeliness of care national comparison  \\\n",
       "0                                   Same   \n",
       "1                                   Same   \n",
       "2                                   Same   \n",
       "3                                   Same   \n",
       "\n",
       "  Efficient use of medical imaging national comparison  \\\n",
       "0                                               Same     \n",
       "1                                               Same     \n",
       "2                                               Same     \n",
       "3                                               Same     \n",
       "\n",
       "  Hospital Ownership Group Sentiment Categories Sentiment Value  \\\n",
       "0               Government              Neutral               3   \n",
       "1               Government        Very Negative               1   \n",
       "2               Government              Neutral               3   \n",
       "3               Government        Very Positive               5   \n",
       "\n",
       "   Eligible For Funding  \n",
       "0                     1  \n",
       "1                     1  \n",
       "2                     1  \n",
       "3                     1  "
      ]
     },
     "execution_count": 52,
     "metadata": {},
     "output_type": "execute_result"
    }
   ],
   "source": [
    "df.head(4)"
   ]
  },
  {
   "cell_type": "markdown",
   "id": "37f7cad3",
   "metadata": {},
   "source": [
    "### Save DataFrame to Azure Data Storage Blob"
   ]
  },
  {
   "cell_type": "code",
   "execution_count": 53,
   "id": "ff16088f",
   "metadata": {},
   "outputs": [
    {
     "name": "stdout",
     "output_type": "stream",
     "text": [
      "Successfully uploaded healthcare_patient_satisfaction_df.csv to Azure Blob Storage.\n"
     ]
    }
   ],
   "source": [
    "from azure.storage.blob import BlobServiceClient, BlobClient, ContainerClient, __version__\n",
    "import os\n",
    "\n",
    "# Create the CSV file\n",
    "csv_file_name = \"healthcare_patient_satisfaction_df.csv\"\n",
    "df.to_csv(csv_file_name, index=False)\n",
    "\n",
    "# Azure connection string\n",
    "connect_str = \"DefaultEndpointsProtocol=https;AccountName=thegroupproject;AccountKey=ZrsqB0h1P58bItB4WmuXcKAzGbXBFI/mGa6M6jYYvyuPgDQ5kqjPI8DJbvDhSsuwqVQqwoqzU8mA+AStHubvaQ==;EndpointSuffix=core.windows.net\"\n",
    "\n",
    "# Create the BlobServiceClient object\n",
    "blob_service_client = BlobServiceClient.from_connection_string(connect_str)\n",
    "\n",
    "# The name of the container to upload the file to\n",
    "container_name = \"healthcare-group-project\"\n",
    "\n",
    "# Create the BlobClient object\n",
    "blob_client = blob_service_client.get_blob_client(container=container_name, blob=csv_file_name)\n",
    "\n",
    "try:\n",
    "    # Open CSV file and upload its content to Azure Blob Storage\n",
    "    with open(csv_file_name, \"rb\") as data:\n",
    "        blob_client.upload_blob(data, overwrite=True)  # Added overwrite=True to handle the case if the blob already exists\n",
    "    print(f\"Successfully uploaded {csv_file_name} to Azure Blob Storage.\")\n",
    "except Exception as e:\n",
    "    print(f\"Error occurred: {str(e)}\")"
   ]
  }
 ],
 "metadata": {
  "kernelspec": {
   "display_name": "Python 3 (ipykernel)",
   "language": "python",
   "name": "python3"
  },
  "language_info": {
   "codemirror_mode": {
    "name": "ipython",
    "version": 3
   },
   "file_extension": ".py",
   "mimetype": "text/x-python",
   "name": "python",
   "nbconvert_exporter": "python",
   "pygments_lexer": "ipython3",
   "version": "3.10.9"
  },
  "varInspector": {
   "cols": {
    "lenName": 16,
    "lenType": 16,
    "lenVar": 40
   },
   "kernels_config": {
    "python": {
     "delete_cmd_postfix": "",
     "delete_cmd_prefix": "del ",
     "library": "var_list.py",
     "varRefreshCmd": "print(var_dic_list())"
    },
    "r": {
     "delete_cmd_postfix": ") ",
     "delete_cmd_prefix": "rm(",
     "library": "var_list.r",
     "varRefreshCmd": "cat(var_dic_list()) "
    }
   },
   "types_to_exclude": [
    "module",
    "function",
    "builtin_function_or_method",
    "instance",
    "_Feature"
   ],
   "window_display": false
  }
 },
 "nbformat": 4,
 "nbformat_minor": 5
}
